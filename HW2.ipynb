{
 "cells": [
  {
   "cell_type": "code",
   "execution_count": 34,
   "metadata": {},
   "outputs": [
    {
     "name": "stdout",
     "output_type": "stream",
     "text": [
      "['visit1', ['Москва', 'Россия'], 'visit3', ['Владимир', 'Россия'], 'visit7', ['Тула', 'Россия'], 'visit8', ['Тула', 'Россия'], 'visit9', ['Курск', 'Россия'], 'visit10', ['Архангельск', 'Россия']]\n"
     ]
    }
   ],
   "source": [
    "# 1\n",
    "geo_logs = [\n",
    "['visit1', ['Москва', 'Россия']],\n",
    "['visit2', ['Дели', 'Индия']],\n",
    "['visit3', ['Владимир', 'Россия']],\n",
    "['visit4', ['Лиссабон', 'Португалия']],\n",
    "['visit5', ['Париж', 'Франция']],\n",
    "['visit6', ['Лиссабон', 'Португалия']],\n",
    "['visit7', ['Тула', 'Россия']],\n",
    "['visit8', ['Тула', 'Россия']],\n",
    "['visit9', ['Курск', 'Россия']],\n",
    "['visit10', ['Архангельск', 'Россия']],\n",
    "]\n",
    "new_geo = []\n",
    "for x in geo_logs:\n",
    "      if   (x[1][1]) == 'Россия':\n",
    "        new_geo = new_geo + x\n",
    "print(new_geo)\n"
   ]
  },
  {
   "cell_type": "code",
   "execution_count": 91,
   "metadata": {},
   "outputs": [
    {
     "name": "stdout",
     "output_type": "stream",
     "text": [
      "[213, 15, 54, 119, 98, 35]\n"
     ]
    }
   ],
   "source": [
    "# 2 поиск уникальных ids\n",
    "ids = {'user1': [213, 213, 213, 15, 213], 'user2': [54, 54, 119, 119, 119], 'user3': [213, 98, 98, 35]}\n",
    "\n",
    "unic_ids =[]\n",
    "for x in ids.items():\n",
    "     for y in x[1]:\n",
    "        if y not in unic_ids:\n",
    "            unic_ids.append(y)\n",
    "  \n",
    "print(unic_ids)        "
   ]
  },
  {
   "cell_type": "code",
   "execution_count": 214,
   "metadata": {
    "scrolled": true
   },
   "outputs": [
    {
     "name": "stdout",
     "output_type": "stream",
     "text": [
      "{'Слов в строке - 3': '4 - 57%%', 'Слов в строке - 2': '3 - 43%%'}\n"
     ]
    }
   ],
   "source": [
    "# 3\n",
    "\n",
    "queries = [\n",
    "'смотреть сериалы онлайн',\n",
    "'новости спорта',\n",
    "'афиша кино',\n",
    "'курс доллара',\n",
    "'сериалы этим летом',\n",
    "'курс по питону',\n",
    "'сериалы про спорт',\n",
    "]\n",
    "\n",
    "names= []\n",
    "lns = (len(queries))\n",
    "for x in queries:\n",
    "    names = names+[[x, x.count(' ')+1]]\n",
    "    #names = \"Слов в строке: \"  + str(x.count(' ')+1)\n",
    "   # names = [\"Слов в строке: \"  + str(x.count(' ')+1)]\n",
    "#print(names)\n",
    "\n",
    "stat={}\n",
    "\n",
    "for i in names:\n",
    "    counts= 0\n",
    "    for j in names:\n",
    "       if j[1] == i[1]:\n",
    "          counts += 1 \n",
    "    stat[\"Слов в строке - \" + str(i[1]) ]= str(counts)+\" - \"+  str(round(counts/lns*100))+ \"%%\"\n",
    "print(stat)\n"
   ]
  },
  {
   "cell_type": "code",
   "execution_count": 217,
   "metadata": {},
   "outputs": [
    {
     "name": "stdout",
     "output_type": "stream",
     "text": [
      "yandex\n"
     ]
    }
   ],
   "source": [
    "#4 Решение из инета\n",
    "stats = {'facebook': 55, 'yandex': 120, 'vk': 115, 'google': 99, 'email': 42, 'ok': 98}\n",
    "inverse = [(value, key) for key, value in stats.items()]\n",
    "print (max(inverse)[1])"
   ]
  },
  {
   "cell_type": "code",
   "execution_count": 270,
   "metadata": {},
   "outputs": [
    {
     "name": "stdout",
     "output_type": "stream",
     "text": [
      "Уникальных пользователей 5 Всего просмотров 93 AVG 18.6\n",
      "{'user1': '23%%', 'user2': '8%%', 'user3': '15%%', 'user4': '55%%'}\n"
     ]
    }
   ],
   "source": [
    "# 5\n",
    "\n",
    "stream = [\n",
    "'2018-01-01,user1,3',\n",
    "'2018-01-07,user1,4',\n",
    "'2018-03-29,user1,1',\n",
    "'2018-04-04,user1,13',\n",
    "'2018-01-05,user2,7',\n",
    "'2018-06-14,user3,4',\n",
    "'2018-07-02,user3,10',\n",
    "'2018-03-21,user4,19',\n",
    "'2018-03-22,user4,4',\n",
    "'2018-04-22,user4,8',\n",
    "'2018-05-03,user4,9',\n",
    "'2018-05-11,user4,11',\n",
    "]\n",
    "\n",
    "sums_total = 0\n",
    "\n",
    "\n",
    "stat={}\n",
    "for i in stream:\n",
    "    l = i.split(\",\")  \n",
    "    sums_total = sums_total + int(l[2])\n",
    "    sum_user = 0\n",
    "    sum_users = 0\n",
    "    for j in stream:\n",
    "        k = j.split(\",\")  \n",
    "        if k[1] == l[1]:\n",
    "            sum_user = sum_user + int(k[2])\n",
    "            sum_users +=1\n",
    "    stat[l[1]]= [sum_user,sum_users]\n",
    "   # print (stat,k[1],l[1],k[2]) \n",
    "#rint (stat, sums_total)\n",
    "\n",
    "print (\"Уникальных пользователей \" + str(sum_users), \"Всего просмотров \" + str(sums_total), \"AVG \" + str(round(sums_total/sum_users,2)))\n",
    "       \n",
    "stat_1 = {}\n",
    "for key, value in stat.items():\n",
    "    # do something with value\n",
    "    stat_1[key] = str(round(value[0]/sums_total*100))+\"%%\"\n",
    "print (stat_1)"
   ]
  },
  {
   "cell_type": "code",
   "execution_count": 277,
   "metadata": {},
   "outputs": [
    {
     "name": "stdout",
     "output_type": "stream",
     "text": [
      "{'2018-01-01google': 25, '2018-01-01yandex': 65, '2018-01-01market': 89, '2018-01-02google': 574, '2018-01-02yandex': 249, '2018-01-02market': 994, '2018-01-03google': 1843, '2018-01-03yandex': 1327, '2018-01-03market': 1764}\n"
     ]
    },
    {
     "data": {
      "text/plain": [
       "25"
      ]
     },
     "execution_count": 277,
     "metadata": {},
     "output_type": "execute_result"
    }
   ],
   "source": [
    "#6 Поиск значения по ключу\n",
    "\n",
    "stats = [\n",
    "['2018-01-01', 'google', 25],\n",
    "['2018-01-01', 'yandex', 65],\n",
    "['2018-01-01', 'market', 89],\n",
    "['2018-01-02', 'google', 574],\n",
    "['2018-01-02', 'yandex', 249],\n",
    "['2018-01-02', 'market', 994],\n",
    "['2018-01-03', 'google', 1843],\n",
    "['2018-01-03', 'yandex', 1327],\n",
    "['2018-01-03', 'market', 1764],\n",
    "]\n",
    "\n",
    "\n",
    "dic = {}\n",
    "\n",
    "for i in stats:\n",
    "    dic[i[0]+i[1]] = i[2]\n",
    "print(dic)    \n",
    "\n",
    "dic.get(\"2018-01-01google\")\n"
   ]
  }
 ],
 "metadata": {
  "kernelspec": {
   "display_name": "Python 3",
   "language": "python",
   "name": "python3"
  },
  "language_info": {
   "codemirror_mode": {
    "name": "ipython",
    "version": 3
   },
   "file_extension": ".py",
   "mimetype": "text/x-python",
   "name": "python",
   "nbconvert_exporter": "python",
   "pygments_lexer": "ipython3",
   "version": "3.6.5"
  }
 },
 "nbformat": 4,
 "nbformat_minor": 2
}
