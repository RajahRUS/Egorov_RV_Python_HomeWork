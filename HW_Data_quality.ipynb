{
 "cells": [
  {
   "cell_type": "code",
   "execution_count": 1,
   "metadata": {},
   "outputs": [],
   "source": [
    "import pandas as pd\n",
    "import numpy as np\n",
    "import matplotlib.pyplot as plt\n",
    "%matplotlib inline\n",
    "import datetime\n",
    "\n",
    "\n",
    "import os\n",
    "\n",
    "#from sklearn.cross_validation import train_test_split\n",
    "from sklearn.linear_model import LinearRegression\n",
    "from sklearn.metrics import roc_auc_score, roc_curve\n",
    "import xgboost\n",
    "import seaborn as sns\n"
   ]
  },
  {
   "cell_type": "code",
   "execution_count": 2,
   "metadata": {
    "scrolled": true
   },
   "outputs": [
    {
     "data": {
      "text/html": [
       "<div>\n",
       "<style scoped>\n",
       "    .dataframe tbody tr th:only-of-type {\n",
       "        vertical-align: middle;\n",
       "    }\n",
       "\n",
       "    .dataframe tbody tr th {\n",
       "        vertical-align: top;\n",
       "    }\n",
       "\n",
       "    .dataframe thead th {\n",
       "        text-align: right;\n",
       "    }\n",
       "</style>\n",
       "<table border=\"1\" class=\"dataframe\">\n",
       "  <thead>\n",
       "    <tr style=\"text-align: right;\">\n",
       "      <th></th>\n",
       "      <th>PERIOD</th>\n",
       "      <th>cl_id</th>\n",
       "      <th>MCC</th>\n",
       "      <th>channel_type</th>\n",
       "      <th>currency</th>\n",
       "      <th>TRDATETIME</th>\n",
       "      <th>amount</th>\n",
       "      <th>trx_category</th>\n",
       "      <th>target_flag</th>\n",
       "      <th>target_sum</th>\n",
       "    </tr>\n",
       "  </thead>\n",
       "  <tbody>\n",
       "    <tr>\n",
       "      <th>0</th>\n",
       "      <td>01/10/2017</td>\n",
       "      <td>0</td>\n",
       "      <td>5200</td>\n",
       "      <td>NaN</td>\n",
       "      <td>810</td>\n",
       "      <td>21OCT17:00:00:00</td>\n",
       "      <td>5023.0</td>\n",
       "      <td>POS</td>\n",
       "      <td>0</td>\n",
       "      <td>0.0</td>\n",
       "    </tr>\n",
       "    <tr>\n",
       "      <th>1</th>\n",
       "      <td>01/10/2017</td>\n",
       "      <td>0</td>\n",
       "      <td>6011</td>\n",
       "      <td>NaN</td>\n",
       "      <td>810</td>\n",
       "      <td>12OCT17:12:24:07</td>\n",
       "      <td>20000.0</td>\n",
       "      <td>DEPOSIT</td>\n",
       "      <td>0</td>\n",
       "      <td>0.0</td>\n",
       "    </tr>\n",
       "    <tr>\n",
       "      <th>2</th>\n",
       "      <td>01/12/2017</td>\n",
       "      <td>0</td>\n",
       "      <td>5921</td>\n",
       "      <td>NaN</td>\n",
       "      <td>810</td>\n",
       "      <td>05DEC17:00:00:00</td>\n",
       "      <td>767.0</td>\n",
       "      <td>POS</td>\n",
       "      <td>0</td>\n",
       "      <td>0.0</td>\n",
       "    </tr>\n",
       "    <tr>\n",
       "      <th>3</th>\n",
       "      <td>01/10/2017</td>\n",
       "      <td>0</td>\n",
       "      <td>5411</td>\n",
       "      <td>NaN</td>\n",
       "      <td>810</td>\n",
       "      <td>21OCT17:00:00:00</td>\n",
       "      <td>2031.0</td>\n",
       "      <td>POS</td>\n",
       "      <td>0</td>\n",
       "      <td>0.0</td>\n",
       "    </tr>\n",
       "    <tr>\n",
       "      <th>4</th>\n",
       "      <td>01/10/2017</td>\n",
       "      <td>0</td>\n",
       "      <td>6012</td>\n",
       "      <td>NaN</td>\n",
       "      <td>810</td>\n",
       "      <td>24OCT17:13:14:24</td>\n",
       "      <td>36562.0</td>\n",
       "      <td>C2C_OUT</td>\n",
       "      <td>0</td>\n",
       "      <td>0.0</td>\n",
       "    </tr>\n",
       "  </tbody>\n",
       "</table>\n",
       "</div>"
      ],
      "text/plain": [
       "       PERIOD  cl_id   MCC channel_type  currency        TRDATETIME   amount  \\\n",
       "0  01/10/2017      0  5200          NaN       810  21OCT17:00:00:00   5023.0   \n",
       "1  01/10/2017      0  6011          NaN       810  12OCT17:12:24:07  20000.0   \n",
       "2  01/12/2017      0  5921          NaN       810  05DEC17:00:00:00    767.0   \n",
       "3  01/10/2017      0  5411          NaN       810  21OCT17:00:00:00   2031.0   \n",
       "4  01/10/2017      0  6012          NaN       810  24OCT17:13:14:24  36562.0   \n",
       "\n",
       "  trx_category  target_flag  target_sum  \n",
       "0          POS            0         0.0  \n",
       "1      DEPOSIT            0         0.0  \n",
       "2          POS            0         0.0  \n",
       "3          POS            0         0.0  \n",
       "4      C2C_OUT            0         0.0  "
      ]
     },
     "execution_count": 2,
     "metadata": {},
     "output_type": "execute_result"
    }
   ],
   "source": [
    "raw_df = pd.read_csv('rosbank_train.csv')\n",
    "\n",
    "mcc_codes = pd.read_csv('mcc_codes.csv')\n",
    "raw_df.head(5)\n",
    "# target_sum - можно выкинуть, переменная участвует в другой задаче"
   ]
  },
  {
   "cell_type": "code",
   "execution_count": 3,
   "metadata": {},
   "outputs": [
    {
     "data": {
      "text/html": [
       "<div>\n",
       "<style scoped>\n",
       "    .dataframe tbody tr th:only-of-type {\n",
       "        vertical-align: middle;\n",
       "    }\n",
       "\n",
       "    .dataframe tbody tr th {\n",
       "        vertical-align: top;\n",
       "    }\n",
       "\n",
       "    .dataframe thead th {\n",
       "        text-align: right;\n",
       "    }\n",
       "</style>\n",
       "<table border=\"1\" class=\"dataframe\">\n",
       "  <thead>\n",
       "    <tr style=\"text-align: right;\">\n",
       "      <th></th>\n",
       "      <th>mcc</th>\n",
       "      <th>edited_description</th>\n",
       "      <th>combined_description</th>\n",
       "      <th>usda_description</th>\n",
       "      <th>irs_description</th>\n",
       "      <th>irs_reportable</th>\n",
       "    </tr>\n",
       "  </thead>\n",
       "  <tbody>\n",
       "    <tr>\n",
       "      <th>0</th>\n",
       "      <td>742</td>\n",
       "      <td>Veterinary Services</td>\n",
       "      <td>Veterinary Services</td>\n",
       "      <td>Veterinary Services</td>\n",
       "      <td>Veterinary Services</td>\n",
       "      <td>Yes</td>\n",
       "    </tr>\n",
       "    <tr>\n",
       "      <th>1</th>\n",
       "      <td>763</td>\n",
       "      <td>Agricultural Co-operatives</td>\n",
       "      <td>Agricultural Co-operatives</td>\n",
       "      <td>Agricultural Co-operatives</td>\n",
       "      <td>Agricultural Cooperative</td>\n",
       "      <td>Yes</td>\n",
       "    </tr>\n",
       "    <tr>\n",
       "      <th>2</th>\n",
       "      <td>780</td>\n",
       "      <td>Horticultural Services, Landscaping Services</td>\n",
       "      <td>Horticultural Services, Landscaping Services</td>\n",
       "      <td>Horticultural Services</td>\n",
       "      <td>Landscaping Services</td>\n",
       "      <td>Yes</td>\n",
       "    </tr>\n",
       "    <tr>\n",
       "      <th>3</th>\n",
       "      <td>1520</td>\n",
       "      <td>General Contractors-Residential and Commercial</td>\n",
       "      <td>General Contractors-Residential and Commercial</td>\n",
       "      <td>General Contractors-Residential and Commercial</td>\n",
       "      <td>General Contractors</td>\n",
       "      <td>Yes</td>\n",
       "    </tr>\n",
       "    <tr>\n",
       "      <th>4</th>\n",
       "      <td>1711</td>\n",
       "      <td>Air Conditioning Contractors – Sales and Insta...</td>\n",
       "      <td>Air Conditioning Contractors – Sales and Insta...</td>\n",
       "      <td>Air Conditioning Contractors – Sales and Insta...</td>\n",
       "      <td>Heating, Plumbing, A/C</td>\n",
       "      <td>Yes</td>\n",
       "    </tr>\n",
       "  </tbody>\n",
       "</table>\n",
       "</div>"
      ],
      "text/plain": [
       "    mcc                                 edited_description  \\\n",
       "0   742                                Veterinary Services   \n",
       "1   763                         Agricultural Co-operatives   \n",
       "2   780       Horticultural Services, Landscaping Services   \n",
       "3  1520     General Contractors-Residential and Commercial   \n",
       "4  1711  Air Conditioning Contractors – Sales and Insta...   \n",
       "\n",
       "                                combined_description  \\\n",
       "0                                Veterinary Services   \n",
       "1                         Agricultural Co-operatives   \n",
       "2       Horticultural Services, Landscaping Services   \n",
       "3     General Contractors-Residential and Commercial   \n",
       "4  Air Conditioning Contractors – Sales and Insta...   \n",
       "\n",
       "                                    usda_description  \\\n",
       "0                                Veterinary Services   \n",
       "1                         Agricultural Co-operatives   \n",
       "2                             Horticultural Services   \n",
       "3     General Contractors-Residential and Commercial   \n",
       "4  Air Conditioning Contractors – Sales and Insta...   \n",
       "\n",
       "            irs_description irs_reportable  \n",
       "0       Veterinary Services            Yes  \n",
       "1  Agricultural Cooperative            Yes  \n",
       "2      Landscaping Services            Yes  \n",
       "3       General Contractors            Yes  \n",
       "4    Heating, Plumbing, A/C            Yes  "
      ]
     },
     "execution_count": 3,
     "metadata": {},
     "output_type": "execute_result"
    }
   ],
   "source": [
    "mcc_codes.head()"
   ]
  },
  {
   "cell_type": "code",
   "execution_count": 4,
   "metadata": {},
   "outputs": [
    {
     "name": "stdout",
     "output_type": "stream",
     "text": [
      "<class 'pandas.core.frame.DataFrame'>\n",
      "RangeIndex: 490513 entries, 0 to 490512\n",
      "Data columns (total 10 columns):\n",
      "PERIOD          490513 non-null object\n",
      "cl_id           490513 non-null int64\n",
      "MCC             490513 non-null int64\n",
      "channel_type    487603 non-null object\n",
      "currency        490513 non-null int64\n",
      "TRDATETIME      490513 non-null object\n",
      "amount          490513 non-null float64\n",
      "trx_category    490513 non-null object\n",
      "target_flag     490513 non-null int64\n",
      "target_sum      490513 non-null float64\n",
      "dtypes: float64(2), int64(4), object(4)\n",
      "memory usage: 37.4+ MB\n"
     ]
    }
   ],
   "source": [
    "raw_df.info()"
   ]
  },
  {
   "cell_type": "code",
   "execution_count": 5,
   "metadata": {},
   "outputs": [
    {
     "data": {
      "text/html": [
       "<div>\n",
       "<style scoped>\n",
       "    .dataframe tbody tr th:only-of-type {\n",
       "        vertical-align: middle;\n",
       "    }\n",
       "\n",
       "    .dataframe tbody tr th {\n",
       "        vertical-align: top;\n",
       "    }\n",
       "\n",
       "    .dataframe thead th {\n",
       "        text-align: right;\n",
       "    }\n",
       "</style>\n",
       "<table border=\"1\" class=\"dataframe\">\n",
       "  <thead>\n",
       "    <tr style=\"text-align: right;\">\n",
       "      <th></th>\n",
       "      <th>PERIOD</th>\n",
       "      <th>cl_id</th>\n",
       "      <th>MCC</th>\n",
       "      <th>channel_type</th>\n",
       "      <th>currency</th>\n",
       "      <th>TRDATETIME</th>\n",
       "      <th>amount</th>\n",
       "      <th>trx_category</th>\n",
       "      <th>target_flag</th>\n",
       "      <th>target_sum</th>\n",
       "    </tr>\n",
       "  </thead>\n",
       "  <tbody>\n",
       "    <tr>\n",
       "      <th>0</th>\n",
       "      <td>01/10/2017</td>\n",
       "      <td>0</td>\n",
       "      <td>5200</td>\n",
       "      <td>NaN</td>\n",
       "      <td>810</td>\n",
       "      <td>21OCT17:00:00:00</td>\n",
       "      <td>5023.0</td>\n",
       "      <td>POS</td>\n",
       "      <td>0</td>\n",
       "      <td>0.0</td>\n",
       "    </tr>\n",
       "    <tr>\n",
       "      <th>1</th>\n",
       "      <td>01/10/2017</td>\n",
       "      <td>0</td>\n",
       "      <td>6011</td>\n",
       "      <td>NaN</td>\n",
       "      <td>810</td>\n",
       "      <td>12OCT17:12:24:07</td>\n",
       "      <td>20000.0</td>\n",
       "      <td>DEPOSIT</td>\n",
       "      <td>0</td>\n",
       "      <td>0.0</td>\n",
       "    </tr>\n",
       "    <tr>\n",
       "      <th>2</th>\n",
       "      <td>01/12/2017</td>\n",
       "      <td>0</td>\n",
       "      <td>5921</td>\n",
       "      <td>NaN</td>\n",
       "      <td>810</td>\n",
       "      <td>05DEC17:00:00:00</td>\n",
       "      <td>767.0</td>\n",
       "      <td>POS</td>\n",
       "      <td>0</td>\n",
       "      <td>0.0</td>\n",
       "    </tr>\n",
       "    <tr>\n",
       "      <th>3</th>\n",
       "      <td>01/10/2017</td>\n",
       "      <td>0</td>\n",
       "      <td>5411</td>\n",
       "      <td>NaN</td>\n",
       "      <td>810</td>\n",
       "      <td>21OCT17:00:00:00</td>\n",
       "      <td>2031.0</td>\n",
       "      <td>POS</td>\n",
       "      <td>0</td>\n",
       "      <td>0.0</td>\n",
       "    </tr>\n",
       "    <tr>\n",
       "      <th>4</th>\n",
       "      <td>01/10/2017</td>\n",
       "      <td>0</td>\n",
       "      <td>6012</td>\n",
       "      <td>NaN</td>\n",
       "      <td>810</td>\n",
       "      <td>24OCT17:13:14:24</td>\n",
       "      <td>36562.0</td>\n",
       "      <td>C2C_OUT</td>\n",
       "      <td>0</td>\n",
       "      <td>0.0</td>\n",
       "    </tr>\n",
       "  </tbody>\n",
       "</table>\n",
       "</div>"
      ],
      "text/plain": [
       "       PERIOD  cl_id   MCC channel_type  currency        TRDATETIME   amount  \\\n",
       "0  01/10/2017      0  5200          NaN       810  21OCT17:00:00:00   5023.0   \n",
       "1  01/10/2017      0  6011          NaN       810  12OCT17:12:24:07  20000.0   \n",
       "2  01/12/2017      0  5921          NaN       810  05DEC17:00:00:00    767.0   \n",
       "3  01/10/2017      0  5411          NaN       810  21OCT17:00:00:00   2031.0   \n",
       "4  01/10/2017      0  6012          NaN       810  24OCT17:13:14:24  36562.0   \n",
       "\n",
       "  trx_category  target_flag  target_sum  \n",
       "0          POS            0         0.0  \n",
       "1      DEPOSIT            0         0.0  \n",
       "2          POS            0         0.0  \n",
       "3          POS            0         0.0  \n",
       "4      C2C_OUT            0         0.0  "
      ]
     },
     "execution_count": 5,
     "metadata": {},
     "output_type": "execute_result"
    }
   ],
   "source": [
    "raw_df.head()"
   ]
  },
  {
   "cell_type": "code",
   "execution_count": 6,
   "metadata": {
    "scrolled": true
   },
   "outputs": [
    {
     "name": "stdout",
     "output_type": "stream",
     "text": [
      "Total clients:  5000\n"
     ]
    }
   ],
   "source": [
    "print(\"Total clients: \", len(raw_df.cl_id.unique()))"
   ]
  },
  {
   "cell_type": "markdown",
   "metadata": {},
   "source": [
    "Всего 5000 клиентов, случайным образом возьмем 1000 клиентов для тестирования"
   ]
  },
  {
   "cell_type": "markdown",
   "metadata": {},
   "source": [
    "## Домашняя работа\n",
    "\n",
    "1. Наборы данных вида Transactions (несколько транзакций на одного клиента) трансформировать в таблицу, где cl_id будут уникальными (соответственно 4000 строк в train и 1000 строк в test\n",
    "2. Для каждого cl_id будет уникальное целевое событие target_flag, а также уникальный канал привлечения клиента channel_type (клиент привлекается лишь однажды и с самого начала его записи присваивается значение канала привлечения)\n",
    "3. При агрегации (*pandas.DataFrame.groupby*) по cl_id (или по связке cl_id, channel_type, target_flag) необходимо создавать производные фичи, идеи для таких фичей могут быть следующими:\n",
    "\n",
    "    - общая сумма транзакций по каждой из trx_category\n",
    "    - общая сумма транзакции по основным вылютам (напр. выделить рубли, доллары и евро - предположительно, это будут самые крупные категории)\n",
    "    - общая сумма транзакций по категориям MCC кодов (например, выбрать основные/популярные MCC коды). ВНИМАНИ! Некоторые MCC коды из train могут быть не представлены в test. Про MCC коды в целом: http://www.banki.ru/wikibank/mcc-kod/; Справочник MCC кодов: https://mcc-codes.ru/code; Про некоторые категории кэшбека Росбанка: https://mcc-codes.ru/card/rosbank-sverkh-plus;\n",
    "    - возможные агрегации по времени суток и дням недели - траты в выходные (праздники) или будни, в ночное время или в рабочее и т.д.\n",
    "4. **Обязательная часть**: провести первичный анализ данных - посмотреть распределения признаков, выделить самые популярные MCC, помотреть активность клиентов по дням недели/времени, какие категории транзакции (trx_category) наиболее популярны и т.д. Получить инсайты, которые в дальнейшем помогут вам правильно подготовить фичи\n",
    "5. **Дополнительная часть**: с отобранными фичами и полученными компонентами обучить модель (тип алгоритма на свой вкус, можно начать с линейной) и померить качество на локальном тестовом наборе данных (локальная валидация), который создается в этом ноутбуке. **Метрика оценки качества - ROC AUC**(https://en.wikipedia.org/wiki/Receiver_operating_characteristic)\n",
    "6. Задания принимаются в виде ноутбука с кодов/картинками выполненной обязательной части + указанием места в leaderboard при решении дополнительной\n",
    "\n",
    "При возникновении вопросов и для отправки домашнего задания - egsachko@gmail.com или http://fb.com/sachkoe\n",
    "    "
   ]
  },
  {
   "cell_type": "code",
   "execution_count": 7,
   "metadata": {},
   "outputs": [
    {
     "data": {
      "text/html": [
       "<div>\n",
       "<style scoped>\n",
       "    .dataframe tbody tr th:only-of-type {\n",
       "        vertical-align: middle;\n",
       "    }\n",
       "\n",
       "    .dataframe tbody tr th {\n",
       "        vertical-align: top;\n",
       "    }\n",
       "\n",
       "    .dataframe thead tr th {\n",
       "        text-align: left;\n",
       "    }\n",
       "\n",
       "    .dataframe thead tr:last-of-type th {\n",
       "        text-align: right;\n",
       "    }\n",
       "</style>\n",
       "<table border=\"1\" class=\"dataframe\">\n",
       "  <thead>\n",
       "    <tr>\n",
       "      <th></th>\n",
       "      <th colspan=\"21\" halign=\"left\">amount</th>\n",
       "    </tr>\n",
       "    <tr>\n",
       "      <th></th>\n",
       "      <th colspan=\"10\" halign=\"left\">sum</th>\n",
       "      <th>...</th>\n",
       "      <th colspan=\"10\" halign=\"left\">count</th>\n",
       "    </tr>\n",
       "    <tr>\n",
       "      <th>MCC</th>\n",
       "      <th>742</th>\n",
       "      <th>763</th>\n",
       "      <th>780</th>\n",
       "      <th>1520</th>\n",
       "      <th>1711</th>\n",
       "      <th>1731</th>\n",
       "      <th>1750</th>\n",
       "      <th>1799</th>\n",
       "      <th>2741</th>\n",
       "      <th>2842</th>\n",
       "      <th>...</th>\n",
       "      <th>8699</th>\n",
       "      <th>8911</th>\n",
       "      <th>8931</th>\n",
       "      <th>8999</th>\n",
       "      <th>9211</th>\n",
       "      <th>9222</th>\n",
       "      <th>9311</th>\n",
       "      <th>9399</th>\n",
       "      <th>9402</th>\n",
       "      <th>9405</th>\n",
       "    </tr>\n",
       "    <tr>\n",
       "      <th>cl_id</th>\n",
       "      <th></th>\n",
       "      <th></th>\n",
       "      <th></th>\n",
       "      <th></th>\n",
       "      <th></th>\n",
       "      <th></th>\n",
       "      <th></th>\n",
       "      <th></th>\n",
       "      <th></th>\n",
       "      <th></th>\n",
       "      <th></th>\n",
       "      <th></th>\n",
       "      <th></th>\n",
       "      <th></th>\n",
       "      <th></th>\n",
       "      <th></th>\n",
       "      <th></th>\n",
       "      <th></th>\n",
       "      <th></th>\n",
       "      <th></th>\n",
       "      <th></th>\n",
       "    </tr>\n",
       "  </thead>\n",
       "  <tbody>\n",
       "    <tr>\n",
       "      <th>0</th>\n",
       "      <td>0.0</td>\n",
       "      <td>0.0</td>\n",
       "      <td>0.0</td>\n",
       "      <td>0.0</td>\n",
       "      <td>0.0</td>\n",
       "      <td>0.0</td>\n",
       "      <td>0.0</td>\n",
       "      <td>0.0</td>\n",
       "      <td>0.0</td>\n",
       "      <td>0.0</td>\n",
       "      <td>...</td>\n",
       "      <td>0.0</td>\n",
       "      <td>0.0</td>\n",
       "      <td>0.0</td>\n",
       "      <td>0.0</td>\n",
       "      <td>0.0</td>\n",
       "      <td>0.0</td>\n",
       "      <td>0.0</td>\n",
       "      <td>0.0</td>\n",
       "      <td>0.0</td>\n",
       "      <td>0.0</td>\n",
       "    </tr>\n",
       "    <tr>\n",
       "      <th>1</th>\n",
       "      <td>0.0</td>\n",
       "      <td>0.0</td>\n",
       "      <td>0.0</td>\n",
       "      <td>0.0</td>\n",
       "      <td>0.0</td>\n",
       "      <td>0.0</td>\n",
       "      <td>0.0</td>\n",
       "      <td>0.0</td>\n",
       "      <td>0.0</td>\n",
       "      <td>0.0</td>\n",
       "      <td>...</td>\n",
       "      <td>0.0</td>\n",
       "      <td>0.0</td>\n",
       "      <td>0.0</td>\n",
       "      <td>0.0</td>\n",
       "      <td>0.0</td>\n",
       "      <td>0.0</td>\n",
       "      <td>1.0</td>\n",
       "      <td>0.0</td>\n",
       "      <td>0.0</td>\n",
       "      <td>0.0</td>\n",
       "    </tr>\n",
       "    <tr>\n",
       "      <th>5</th>\n",
       "      <td>0.0</td>\n",
       "      <td>0.0</td>\n",
       "      <td>0.0</td>\n",
       "      <td>0.0</td>\n",
       "      <td>0.0</td>\n",
       "      <td>0.0</td>\n",
       "      <td>0.0</td>\n",
       "      <td>0.0</td>\n",
       "      <td>0.0</td>\n",
       "      <td>0.0</td>\n",
       "      <td>...</td>\n",
       "      <td>0.0</td>\n",
       "      <td>0.0</td>\n",
       "      <td>0.0</td>\n",
       "      <td>0.0</td>\n",
       "      <td>0.0</td>\n",
       "      <td>1.0</td>\n",
       "      <td>0.0</td>\n",
       "      <td>0.0</td>\n",
       "      <td>0.0</td>\n",
       "      <td>0.0</td>\n",
       "    </tr>\n",
       "    <tr>\n",
       "      <th>9</th>\n",
       "      <td>0.0</td>\n",
       "      <td>0.0</td>\n",
       "      <td>0.0</td>\n",
       "      <td>0.0</td>\n",
       "      <td>0.0</td>\n",
       "      <td>0.0</td>\n",
       "      <td>0.0</td>\n",
       "      <td>0.0</td>\n",
       "      <td>0.0</td>\n",
       "      <td>0.0</td>\n",
       "      <td>...</td>\n",
       "      <td>0.0</td>\n",
       "      <td>0.0</td>\n",
       "      <td>0.0</td>\n",
       "      <td>0.0</td>\n",
       "      <td>0.0</td>\n",
       "      <td>0.0</td>\n",
       "      <td>0.0</td>\n",
       "      <td>0.0</td>\n",
       "      <td>0.0</td>\n",
       "      <td>0.0</td>\n",
       "    </tr>\n",
       "    <tr>\n",
       "      <th>10</th>\n",
       "      <td>0.0</td>\n",
       "      <td>0.0</td>\n",
       "      <td>0.0</td>\n",
       "      <td>0.0</td>\n",
       "      <td>0.0</td>\n",
       "      <td>0.0</td>\n",
       "      <td>0.0</td>\n",
       "      <td>0.0</td>\n",
       "      <td>0.0</td>\n",
       "      <td>0.0</td>\n",
       "      <td>...</td>\n",
       "      <td>0.0</td>\n",
       "      <td>0.0</td>\n",
       "      <td>0.0</td>\n",
       "      <td>1.0</td>\n",
       "      <td>0.0</td>\n",
       "      <td>0.0</td>\n",
       "      <td>0.0</td>\n",
       "      <td>0.0</td>\n",
       "      <td>0.0</td>\n",
       "      <td>0.0</td>\n",
       "    </tr>\n",
       "  </tbody>\n",
       "</table>\n",
       "<p>5 rows × 688 columns</p>\n",
       "</div>"
      ],
      "text/plain": [
       "      amount                                              ...              \\\n",
       "         sum                                              ...  count        \n",
       "MCC     742  763  780  1520 1711 1731 1750 1799 2741 2842 ...   8699 8911   \n",
       "cl_id                                                     ...               \n",
       "0        0.0  0.0  0.0  0.0  0.0  0.0  0.0  0.0  0.0  0.0 ...    0.0  0.0   \n",
       "1        0.0  0.0  0.0  0.0  0.0  0.0  0.0  0.0  0.0  0.0 ...    0.0  0.0   \n",
       "5        0.0  0.0  0.0  0.0  0.0  0.0  0.0  0.0  0.0  0.0 ...    0.0  0.0   \n",
       "9        0.0  0.0  0.0  0.0  0.0  0.0  0.0  0.0  0.0  0.0 ...    0.0  0.0   \n",
       "10       0.0  0.0  0.0  0.0  0.0  0.0  0.0  0.0  0.0  0.0 ...    0.0  0.0   \n",
       "\n",
       "                                               \n",
       "                                               \n",
       "MCC   8931 8999 9211 9222 9311 9399 9402 9405  \n",
       "cl_id                                          \n",
       "0      0.0  0.0  0.0  0.0  0.0  0.0  0.0  0.0  \n",
       "1      0.0  0.0  0.0  0.0  1.0  0.0  0.0  0.0  \n",
       "5      0.0  0.0  0.0  1.0  0.0  0.0  0.0  0.0  \n",
       "9      0.0  0.0  0.0  0.0  0.0  0.0  0.0  0.0  \n",
       "10     0.0  1.0  0.0  0.0  0.0  0.0  0.0  0.0  \n",
       "\n",
       "[5 rows x 688 columns]"
      ]
     },
     "execution_count": 7,
     "metadata": {},
     "output_type": "execute_result"
    }
   ],
   "source": [
    "raw_df_grouped = raw_df[\n",
    "    ['cl_id', 'amount', 'MCC']\n",
    "].groupby(['cl_id', 'MCC']).agg(['sum', 'count'])\n",
    "\n",
    "aggregated_dataset = raw_df_grouped.unstack('MCC').fillna(0)\n",
    "#aggregated_dataset = raw_df_grouped.unstack('Cl')\n",
    "aggregated_dataset.head()"
   ]
  },
  {
   "cell_type": "markdown",
   "metadata": {},
   "source": [
    "# Клиент с максимальным количеством транзакций\n",
    "# И типы операций по популярности"
   ]
  },
  {
   "cell_type": "code",
   "execution_count": 143,
   "metadata": {
    "scrolled": false
   },
   "outputs": [
    {
     "data": {
      "text/plain": [
       "2143    784\n",
       "5373    512\n",
       "5630    501\n",
       "4564    499\n",
       "1261    485\n",
       "5398    483\n",
       "10      463\n",
       "5847    463\n",
       "757     439\n",
       "985     415\n",
       "Name: cl_id, dtype: int64"
      ]
     },
     "execution_count": 143,
     "metadata": {},
     "output_type": "execute_result"
    }
   ],
   "source": [
    "raw_df['cl_id'].value_counts().head(10)"
   ]
  },
  {
   "cell_type": "code",
   "execution_count": 144,
   "metadata": {
    "scrolled": true
   },
   "outputs": [
    {
     "data": {
      "text/plain": [
       "5411    121640\n",
       "6011     54382\n",
       "5814     41351\n",
       "5812     30027\n",
       "5499     27237\n",
       "5541     19816\n",
       "5912     18728\n",
       "5999     13073\n",
       "6012     10056\n",
       "5921      8578\n",
       "Name: MCC, dtype: int64"
      ]
     },
     "execution_count": 144,
     "metadata": {},
     "output_type": "execute_result"
    }
   ],
   "source": [
    "raw_df['MCC'].value_counts().head(10)"
   ]
  },
  {
   "cell_type": "code",
   "execution_count": 145,
   "metadata": {},
   "outputs": [
    {
     "data": {
      "text/plain": [
       "POS               416425\n",
       "DEPOSIT            21216\n",
       "WD_ATM_ROS         19104\n",
       "WD_ATM_PARTNER      9948\n",
       "C2C_IN              7306\n",
       "WD_ATM_OTHER        7140\n",
       "C2C_OUT             5456\n",
       "BACK_TRX            2687\n",
       "CAT                 1197\n",
       "CASH_ADV              34\n",
       "Name: trx_category, dtype: int64"
      ]
     },
     "execution_count": 145,
     "metadata": {},
     "output_type": "execute_result"
    }
   ],
   "source": [
    "raw_df['trx_category'].value_counts().head(10)"
   ]
  },
  {
   "cell_type": "markdown",
   "metadata": {},
   "source": [
    "##   Подготовка данных с помощью SQLlite"
   ]
  },
  {
   "cell_type": "code",
   "execution_count": 8,
   "metadata": {},
   "outputs": [],
   "source": [
    "import sqlite3"
   ]
  },
  {
   "cell_type": "code",
   "execution_count": 9,
   "metadata": {},
   "outputs": [],
   "source": [
    "conn = sqlite3.connect('transactions.db')"
   ]
  },
  {
   "cell_type": "code",
   "execution_count": 10,
   "metadata": {},
   "outputs": [],
   "source": [
    "raw_df.to_sql('transactions_raw',if_exists = 'replace', con = conn)"
   ]
  },
  {
   "cell_type": "code",
   "execution_count": 11,
   "metadata": {},
   "outputs": [
    {
     "data": {
      "text/html": [
       "<div>\n",
       "<style scoped>\n",
       "    .dataframe tbody tr th:only-of-type {\n",
       "        vertical-align: middle;\n",
       "    }\n",
       "\n",
       "    .dataframe tbody tr th {\n",
       "        vertical-align: top;\n",
       "    }\n",
       "\n",
       "    .dataframe thead th {\n",
       "        text-align: right;\n",
       "    }\n",
       "</style>\n",
       "<table border=\"1\" class=\"dataframe\">\n",
       "  <thead>\n",
       "    <tr style=\"text-align: right;\">\n",
       "      <th></th>\n",
       "      <th>count(*)</th>\n",
       "      <th>count(distinct cl_id)</th>\n",
       "    </tr>\n",
       "  </thead>\n",
       "  <tbody>\n",
       "    <tr>\n",
       "      <th>0</th>\n",
       "      <td>490513</td>\n",
       "      <td>5000</td>\n",
       "    </tr>\n",
       "  </tbody>\n",
       "</table>\n",
       "</div>"
      ],
      "text/plain": [
       "   count(*)  count(distinct cl_id)\n",
       "0    490513                   5000"
      ]
     },
     "execution_count": 11,
     "metadata": {},
     "output_type": "execute_result"
    }
   ],
   "source": [
    " pd.io.sql.read_sql (\"\"\"select count(*), count(distinct cl_id) from transactions_raw limit 100\"\"\", conn)"
   ]
  },
  {
   "cell_type": "code",
   "execution_count": 12,
   "metadata": {},
   "outputs": [
    {
     "data": {
      "text/html": [
       "<div>\n",
       "<style scoped>\n",
       "    .dataframe tbody tr th:only-of-type {\n",
       "        vertical-align: middle;\n",
       "    }\n",
       "\n",
       "    .dataframe tbody tr th {\n",
       "        vertical-align: top;\n",
       "    }\n",
       "\n",
       "    .dataframe thead th {\n",
       "        text-align: right;\n",
       "    }\n",
       "</style>\n",
       "<table border=\"1\" class=\"dataframe\">\n",
       "  <thead>\n",
       "    <tr style=\"text-align: right;\">\n",
       "      <th></th>\n",
       "      <th>index</th>\n",
       "      <th>mcc</th>\n",
       "      <th>edited_description</th>\n",
       "      <th>combined_description</th>\n",
       "      <th>usda_description</th>\n",
       "      <th>irs_description</th>\n",
       "      <th>irs_reportable</th>\n",
       "    </tr>\n",
       "  </thead>\n",
       "  <tbody>\n",
       "    <tr>\n",
       "      <th>0</th>\n",
       "      <td>0</td>\n",
       "      <td>742</td>\n",
       "      <td>Veterinary Services</td>\n",
       "      <td>Veterinary Services</td>\n",
       "      <td>Veterinary Services</td>\n",
       "      <td>Veterinary Services</td>\n",
       "      <td>Yes</td>\n",
       "    </tr>\n",
       "    <tr>\n",
       "      <th>1</th>\n",
       "      <td>1</td>\n",
       "      <td>763</td>\n",
       "      <td>Agricultural Co-operatives</td>\n",
       "      <td>Agricultural Co-operatives</td>\n",
       "      <td>Agricultural Co-operatives</td>\n",
       "      <td>Agricultural Cooperative</td>\n",
       "      <td>Yes</td>\n",
       "    </tr>\n",
       "    <tr>\n",
       "      <th>2</th>\n",
       "      <td>2</td>\n",
       "      <td>780</td>\n",
       "      <td>Horticultural Services, Landscaping Services</td>\n",
       "      <td>Horticultural Services, Landscaping Services</td>\n",
       "      <td>Horticultural Services</td>\n",
       "      <td>Landscaping Services</td>\n",
       "      <td>Yes</td>\n",
       "    </tr>\n",
       "    <tr>\n",
       "      <th>3</th>\n",
       "      <td>3</td>\n",
       "      <td>1520</td>\n",
       "      <td>General Contractors-Residential and Commercial</td>\n",
       "      <td>General Contractors-Residential and Commercial</td>\n",
       "      <td>General Contractors-Residential and Commercial</td>\n",
       "      <td>General Contractors</td>\n",
       "      <td>Yes</td>\n",
       "    </tr>\n",
       "    <tr>\n",
       "      <th>4</th>\n",
       "      <td>4</td>\n",
       "      <td>1711</td>\n",
       "      <td>Air Conditioning Contractors – Sales and Insta...</td>\n",
       "      <td>Air Conditioning Contractors – Sales and Insta...</td>\n",
       "      <td>Air Conditioning Contractors – Sales and Insta...</td>\n",
       "      <td>Heating, Plumbing, A/C</td>\n",
       "      <td>Yes</td>\n",
       "    </tr>\n",
       "    <tr>\n",
       "      <th>5</th>\n",
       "      <td>5</td>\n",
       "      <td>1731</td>\n",
       "      <td>Electrical Contractors</td>\n",
       "      <td>Electrical Contractors</td>\n",
       "      <td>Electrical Contractors</td>\n",
       "      <td>Electrical Contractors</td>\n",
       "      <td>Yes</td>\n",
       "    </tr>\n",
       "    <tr>\n",
       "      <th>6</th>\n",
       "      <td>6</td>\n",
       "      <td>1740</td>\n",
       "      <td>Insulation – Contractors, Masonry, Stonework C...</td>\n",
       "      <td>Insulation – Contractors, Masonry, Stonework C...</td>\n",
       "      <td>Insulation – Contractors</td>\n",
       "      <td>Masonry, Stonework, and Plaster</td>\n",
       "      <td>Yes</td>\n",
       "    </tr>\n",
       "    <tr>\n",
       "      <th>7</th>\n",
       "      <td>7</td>\n",
       "      <td>1750</td>\n",
       "      <td>Carpentry Contractors</td>\n",
       "      <td>Carpentry Contractors</td>\n",
       "      <td>Carpentry Contractors</td>\n",
       "      <td>Carpentry Contractors</td>\n",
       "      <td>Yes</td>\n",
       "    </tr>\n",
       "    <tr>\n",
       "      <th>8</th>\n",
       "      <td>8</td>\n",
       "      <td>1761</td>\n",
       "      <td>Roofing – Contractors, Sheet Metal Work – Cont...</td>\n",
       "      <td>Roofing – Contractors, Sheet Metal Work – Cont...</td>\n",
       "      <td>Roofing - Contractors</td>\n",
       "      <td>Roofing/Siding, Sheet Metal</td>\n",
       "      <td>Yes</td>\n",
       "    </tr>\n",
       "    <tr>\n",
       "      <th>9</th>\n",
       "      <td>9</td>\n",
       "      <td>1771</td>\n",
       "      <td>Contractors – Concrete Work</td>\n",
       "      <td>Contractors – Concrete Work</td>\n",
       "      <td>Contractors – Concrete Work</td>\n",
       "      <td>Concrete Work Contractors</td>\n",
       "      <td>Yes</td>\n",
       "    </tr>\n",
       "  </tbody>\n",
       "</table>\n",
       "</div>"
      ],
      "text/plain": [
       "   index   mcc                                 edited_description  \\\n",
       "0      0   742                                Veterinary Services   \n",
       "1      1   763                         Agricultural Co-operatives   \n",
       "2      2   780       Horticultural Services, Landscaping Services   \n",
       "3      3  1520     General Contractors-Residential and Commercial   \n",
       "4      4  1711  Air Conditioning Contractors – Sales and Insta...   \n",
       "5      5  1731                             Electrical Contractors   \n",
       "6      6  1740  Insulation – Contractors, Masonry, Stonework C...   \n",
       "7      7  1750                              Carpentry Contractors   \n",
       "8      8  1761  Roofing – Contractors, Sheet Metal Work – Cont...   \n",
       "9      9  1771                        Contractors – Concrete Work   \n",
       "\n",
       "                                combined_description  \\\n",
       "0                                Veterinary Services   \n",
       "1                         Agricultural Co-operatives   \n",
       "2       Horticultural Services, Landscaping Services   \n",
       "3     General Contractors-Residential and Commercial   \n",
       "4  Air Conditioning Contractors – Sales and Insta...   \n",
       "5                             Electrical Contractors   \n",
       "6  Insulation – Contractors, Masonry, Stonework C...   \n",
       "7                              Carpentry Contractors   \n",
       "8  Roofing – Contractors, Sheet Metal Work – Cont...   \n",
       "9                        Contractors – Concrete Work   \n",
       "\n",
       "                                    usda_description  \\\n",
       "0                                Veterinary Services   \n",
       "1                         Agricultural Co-operatives   \n",
       "2                             Horticultural Services   \n",
       "3     General Contractors-Residential and Commercial   \n",
       "4  Air Conditioning Contractors – Sales and Insta...   \n",
       "5                             Electrical Contractors   \n",
       "6                           Insulation – Contractors   \n",
       "7                              Carpentry Contractors   \n",
       "8                              Roofing - Contractors   \n",
       "9                        Contractors – Concrete Work   \n",
       "\n",
       "                   irs_description irs_reportable  \n",
       "0              Veterinary Services            Yes  \n",
       "1         Agricultural Cooperative            Yes  \n",
       "2             Landscaping Services            Yes  \n",
       "3              General Contractors            Yes  \n",
       "4           Heating, Plumbing, A/C            Yes  \n",
       "5           Electrical Contractors            Yes  \n",
       "6  Masonry, Stonework, and Plaster            Yes  \n",
       "7            Carpentry Contractors            Yes  \n",
       "8      Roofing/Siding, Sheet Metal            Yes  \n",
       "9        Concrete Work Contractors            Yes  "
      ]
     },
     "execution_count": 12,
     "metadata": {},
     "output_type": "execute_result"
    }
   ],
   "source": [
    " pd.io.sql.read_sql (\"\"\"select * from mcc_codes limit 10\"\"\", conn)"
   ]
  },
  {
   "cell_type": "code",
   "execution_count": 13,
   "metadata": {},
   "outputs": [],
   "source": [
    "mcc_codes.to_sql('mcc_codes',if_exists = 'replace', con = conn)"
   ]
  },
  {
   "cell_type": "code",
   "execution_count": 14,
   "metadata": {},
   "outputs": [
    {
     "data": {
      "text/plain": [
       "<sqlite3.Cursor at 0x1ae66924c00>"
      ]
     },
     "execution_count": 14,
     "metadata": {},
     "output_type": "execute_result"
    }
   ],
   "source": [
    "#pd.io.sql.execute(\"\"\"     drop table cl_channel \"\"\"                   , conn)\n",
    "pd.io.sql.execute(\"\"\"\n",
    "     \n",
    "     drop table cl_channel \n",
    "     \n",
    "\n",
    "    \"\"\"\n",
    "                   , conn)"
   ]
  },
  {
   "cell_type": "code",
   "execution_count": 15,
   "metadata": {},
   "outputs": [
    {
     "data": {
      "text/plain": [
       "<sqlite3.Cursor at 0x1ae66924dc0>"
      ]
     },
     "execution_count": 15,
     "metadata": {},
     "output_type": "execute_result"
    }
   ],
   "source": [
    "#pd.io.sql.execute(\"\"\"     drop table cl_channel \"\"\"                   , conn)\n",
    "pd.io.sql.execute(\"\"\"\n",
    "     \n",
    "     create table cl_channel as\n",
    "     select \n",
    "     distinct\n",
    "     cl_id,\n",
    "     channel_type\n",
    "     --count(*)\n",
    "     from transactions_raw\n",
    "     where channel_type <> \"NaN\"\n",
    "     --and cl_id = 50\n",
    "    --group by 1,2\n",
    "\n",
    "    \"\"\"\n",
    "                   , conn)"
   ]
  },
  {
   "cell_type": "code",
   "execution_count": 16,
   "metadata": {},
   "outputs": [
    {
     "data": {
      "text/html": [
       "<div>\n",
       "<style scoped>\n",
       "    .dataframe tbody tr th:only-of-type {\n",
       "        vertical-align: middle;\n",
       "    }\n",
       "\n",
       "    .dataframe tbody tr th {\n",
       "        vertical-align: top;\n",
       "    }\n",
       "\n",
       "    .dataframe thead th {\n",
       "        text-align: right;\n",
       "    }\n",
       "</style>\n",
       "<table border=\"1\" class=\"dataframe\">\n",
       "  <thead>\n",
       "    <tr style=\"text-align: right;\">\n",
       "      <th></th>\n",
       "      <th>cl_id</th>\n",
       "      <th>channel_type</th>\n",
       "    </tr>\n",
       "  </thead>\n",
       "  <tbody>\n",
       "    <tr>\n",
       "      <th>0</th>\n",
       "      <td>50</td>\n",
       "      <td>type5</td>\n",
       "    </tr>\n",
       "    <tr>\n",
       "      <th>1</th>\n",
       "      <td>52</td>\n",
       "      <td>type5</td>\n",
       "    </tr>\n",
       "    <tr>\n",
       "      <th>2</th>\n",
       "      <td>54</td>\n",
       "      <td>type5</td>\n",
       "    </tr>\n",
       "    <tr>\n",
       "      <th>3</th>\n",
       "      <td>55</td>\n",
       "      <td>type5</td>\n",
       "    </tr>\n",
       "    <tr>\n",
       "      <th>4</th>\n",
       "      <td>56</td>\n",
       "      <td>type5</td>\n",
       "    </tr>\n",
       "    <tr>\n",
       "      <th>5</th>\n",
       "      <td>58</td>\n",
       "      <td>type5</td>\n",
       "    </tr>\n",
       "    <tr>\n",
       "      <th>6</th>\n",
       "      <td>59</td>\n",
       "      <td>type5</td>\n",
       "    </tr>\n",
       "    <tr>\n",
       "      <th>7</th>\n",
       "      <td>61</td>\n",
       "      <td>type5</td>\n",
       "    </tr>\n",
       "    <tr>\n",
       "      <th>8</th>\n",
       "      <td>63</td>\n",
       "      <td>type5</td>\n",
       "    </tr>\n",
       "    <tr>\n",
       "      <th>9</th>\n",
       "      <td>68</td>\n",
       "      <td>type5</td>\n",
       "    </tr>\n",
       "  </tbody>\n",
       "</table>\n",
       "</div>"
      ],
      "text/plain": [
       "   cl_id channel_type\n",
       "0     50        type5\n",
       "1     52        type5\n",
       "2     54        type5\n",
       "3     55        type5\n",
       "4     56        type5\n",
       "5     58        type5\n",
       "6     59        type5\n",
       "7     61        type5\n",
       "8     63        type5\n",
       "9     68        type5"
      ]
     },
     "execution_count": 16,
     "metadata": {},
     "output_type": "execute_result"
    }
   ],
   "source": [
    "pd.io.sql.read_sql(\"\"\"\n",
    "     \n",
    "select * from cl_channel limit 10\n",
    "\n",
    "    \"\"\"\n",
    "                   , conn)"
   ]
  },
  {
   "cell_type": "code",
   "execution_count": 17,
   "metadata": {},
   "outputs": [],
   "source": [
    "datamart = pd.io.sql.read_sql(\"\"\"\n",
    "     select \n",
    "     t.PERIOD,\n",
    "     CAST(substr(t.PERIOD,4,2) as decimal) PERIOD_MONTH,\n",
    "     t.cl_id,\n",
    "     t.MCC,\n",
    "     ch.channel_type,\n",
    "     t.currency,\n",
    "     t.TRDATETIME,\n",
    "     t.amount,\n",
    "     t.trx_category,\n",
    "     t.target_flag,\n",
    "     t.target_sum,\n",
    "     t.TRDATETIME,\n",
    "     cast(strftime(\"%w\",(substr(t.PERIOD,7,4)||\"-\"||substr(t.PERIOD,4,2)||\"-\"||substr(t.TRDATETIME,1,2))) as decimal) TR_week_day,\n",
    "     cast(substr(t.TRDATETIME,6,2) as decimal) TR_hour,\n",
    "     c.usda_description\n",
    "     from transactions_raw as  t\n",
    "     left  join mcc_codes as c\n",
    "     on t.MCC = c.MCC\n",
    "     left join cl_channel as ch\n",
    "     on t.cl_id = ch.cl_id\n",
    "    \n",
    "     order by 1\n",
    "    -- limit 100\n",
    "    \"\"\"\n",
    "                   , conn)"
   ]
  },
  {
   "cell_type": "code",
   "execution_count": 18,
   "metadata": {
    "scrolled": true
   },
   "outputs": [
    {
     "name": "stdout",
     "output_type": "stream",
     "text": [
      "<class 'pandas.core.frame.DataFrame'>\n",
      "RangeIndex: 490513 entries, 0 to 490512\n",
      "Data columns (total 15 columns):\n",
      "PERIOD              490513 non-null object\n",
      "PERIOD_MONTH        490513 non-null int64\n",
      "cl_id               490513 non-null int64\n",
      "MCC                 490513 non-null int64\n",
      "channel_type        487603 non-null object\n",
      "currency            490513 non-null int64\n",
      "TRDATETIME          490513 non-null object\n",
      "amount              490513 non-null float64\n",
      "trx_category        490513 non-null object\n",
      "target_flag         490513 non-null int64\n",
      "target_sum          490513 non-null float64\n",
      "TRDATETIME          490513 non-null object\n",
      "TR_week_day         490513 non-null int64\n",
      "TR_hour             490513 non-null int64\n",
      "usda_description    488946 non-null object\n",
      "dtypes: float64(2), int64(7), object(6)\n",
      "memory usage: 56.1+ MB\n"
     ]
    }
   ],
   "source": [
    "datamart.info()"
   ]
  },
  {
   "cell_type": "code",
   "execution_count": 19,
   "metadata": {
    "scrolled": true
   },
   "outputs": [
    {
     "data": {
      "text/html": [
       "<div>\n",
       "<style scoped>\n",
       "    .dataframe tbody tr th:only-of-type {\n",
       "        vertical-align: middle;\n",
       "    }\n",
       "\n",
       "    .dataframe tbody tr th {\n",
       "        vertical-align: top;\n",
       "    }\n",
       "\n",
       "    .dataframe thead th {\n",
       "        text-align: right;\n",
       "    }\n",
       "</style>\n",
       "<table border=\"1\" class=\"dataframe\">\n",
       "  <thead>\n",
       "    <tr style=\"text-align: right;\">\n",
       "      <th></th>\n",
       "      <th>PERIOD</th>\n",
       "      <th>PERIOD_MONTH</th>\n",
       "      <th>cl_id</th>\n",
       "      <th>MCC</th>\n",
       "      <th>channel_type</th>\n",
       "      <th>currency</th>\n",
       "      <th>TRDATETIME</th>\n",
       "      <th>amount</th>\n",
       "      <th>trx_category</th>\n",
       "      <th>target_flag</th>\n",
       "      <th>target_sum</th>\n",
       "      <th>TRDATETIME</th>\n",
       "      <th>TR_week_day</th>\n",
       "      <th>TR_hour</th>\n",
       "      <th>usda_description</th>\n",
       "    </tr>\n",
       "  </thead>\n",
       "  <tbody>\n",
       "    <tr>\n",
       "      <th>0</th>\n",
       "      <td>01/01/2017</td>\n",
       "      <td>1</td>\n",
       "      <td>21</td>\n",
       "      <td>5533</td>\n",
       "      <td>None</td>\n",
       "      <td>810</td>\n",
       "      <td>20JAN17:00:00:00</td>\n",
       "      <td>50.00</td>\n",
       "      <td>POS</td>\n",
       "      <td>0</td>\n",
       "      <td>0.0</td>\n",
       "      <td>20JAN17:00:00:00</td>\n",
       "      <td>5</td>\n",
       "      <td>17</td>\n",
       "      <td>Automotive Parts, Accessories Stores</td>\n",
       "    </tr>\n",
       "    <tr>\n",
       "      <th>1</th>\n",
       "      <td>01/01/2017</td>\n",
       "      <td>1</td>\n",
       "      <td>21</td>\n",
       "      <td>6011</td>\n",
       "      <td>None</td>\n",
       "      <td>810</td>\n",
       "      <td>13JAN17:20:03:04</td>\n",
       "      <td>20000.00</td>\n",
       "      <td>DEPOSIT</td>\n",
       "      <td>0</td>\n",
       "      <td>0.0</td>\n",
       "      <td>13JAN17:20:03:04</td>\n",
       "      <td>5</td>\n",
       "      <td>17</td>\n",
       "      <td>Financial Institutions – Manual Cash Disbursem...</td>\n",
       "    </tr>\n",
       "    <tr>\n",
       "      <th>2</th>\n",
       "      <td>01/01/2017</td>\n",
       "      <td>1</td>\n",
       "      <td>21</td>\n",
       "      <td>5411</td>\n",
       "      <td>None</td>\n",
       "      <td>810</td>\n",
       "      <td>24JAN17:00:00:00</td>\n",
       "      <td>741.83</td>\n",
       "      <td>POS</td>\n",
       "      <td>0</td>\n",
       "      <td>0.0</td>\n",
       "      <td>24JAN17:00:00:00</td>\n",
       "      <td>2</td>\n",
       "      <td>17</td>\n",
       "      <td>Grocery Stores</td>\n",
       "    </tr>\n",
       "    <tr>\n",
       "      <th>3</th>\n",
       "      <td>01/01/2017</td>\n",
       "      <td>1</td>\n",
       "      <td>21</td>\n",
       "      <td>5533</td>\n",
       "      <td>None</td>\n",
       "      <td>810</td>\n",
       "      <td>22JAN17:00:00:00</td>\n",
       "      <td>100.00</td>\n",
       "      <td>POS</td>\n",
       "      <td>0</td>\n",
       "      <td>0.0</td>\n",
       "      <td>22JAN17:00:00:00</td>\n",
       "      <td>0</td>\n",
       "      <td>17</td>\n",
       "      <td>Automotive Parts, Accessories Stores</td>\n",
       "    </tr>\n",
       "    <tr>\n",
       "      <th>4</th>\n",
       "      <td>01/01/2017</td>\n",
       "      <td>1</td>\n",
       "      <td>21</td>\n",
       "      <td>5411</td>\n",
       "      <td>None</td>\n",
       "      <td>810</td>\n",
       "      <td>25JAN17:00:00:00</td>\n",
       "      <td>586.00</td>\n",
       "      <td>POS</td>\n",
       "      <td>0</td>\n",
       "      <td>0.0</td>\n",
       "      <td>25JAN17:00:00:00</td>\n",
       "      <td>3</td>\n",
       "      <td>17</td>\n",
       "      <td>Grocery Stores</td>\n",
       "    </tr>\n",
       "  </tbody>\n",
       "</table>\n",
       "</div>"
      ],
      "text/plain": [
       "       PERIOD  PERIOD_MONTH  cl_id   MCC channel_type  currency  \\\n",
       "0  01/01/2017             1     21  5533         None       810   \n",
       "1  01/01/2017             1     21  6011         None       810   \n",
       "2  01/01/2017             1     21  5411         None       810   \n",
       "3  01/01/2017             1     21  5533         None       810   \n",
       "4  01/01/2017             1     21  5411         None       810   \n",
       "\n",
       "         TRDATETIME    amount trx_category  target_flag  target_sum  \\\n",
       "0  20JAN17:00:00:00     50.00          POS            0         0.0   \n",
       "1  13JAN17:20:03:04  20000.00      DEPOSIT            0         0.0   \n",
       "2  24JAN17:00:00:00    741.83          POS            0         0.0   \n",
       "3  22JAN17:00:00:00    100.00          POS            0         0.0   \n",
       "4  25JAN17:00:00:00    586.00          POS            0         0.0   \n",
       "\n",
       "         TRDATETIME  TR_week_day  TR_hour  \\\n",
       "0  20JAN17:00:00:00            5       17   \n",
       "1  13JAN17:20:03:04            5       17   \n",
       "2  24JAN17:00:00:00            2       17   \n",
       "3  22JAN17:00:00:00            0       17   \n",
       "4  25JAN17:00:00:00            3       17   \n",
       "\n",
       "                                    usda_description  \n",
       "0               Automotive Parts, Accessories Stores  \n",
       "1  Financial Institutions – Manual Cash Disbursem...  \n",
       "2                                     Grocery Stores  \n",
       "3               Automotive Parts, Accessories Stores  \n",
       "4                                     Grocery Stores  "
      ]
     },
     "execution_count": 19,
     "metadata": {},
     "output_type": "execute_result"
    }
   ],
   "source": [
    "datamart.head(5)"
   ]
  },
  {
   "cell_type": "markdown",
   "metadata": {},
   "source": [
    "# Функции для трансформации категориальных переменных"
   ]
  },
  {
   "cell_type": "code",
   "execution_count": 20,
   "metadata": {},
   "outputs": [],
   "source": [
    "def get_one_hot(df, cols):\n",
    "    \"\"\"\n",
    "    @param df pandas DataFrame\n",
    "    @param cols a list of columns to encode \n",
    "    @return a DataFrame with one-hot encoding\n",
    "    \"\"\"\n",
    "    for each in cols:\n",
    "        dummies = pd.get_dummies(df[each], prefix=each, drop_first=False)\n",
    "        df = pd.concat([df, dummies], axis=1)\n",
    "    return df"
   ]
  },
  {
   "cell_type": "code",
   "execution_count": 21,
   "metadata": {},
   "outputs": [],
   "source": [
    "def get_woe_v1(df_train, df_test, col, target_col):\n",
    "    all_good = len(df_train[df_train[target_col] == 1][col])\n",
    "    all_bad = len(df_train[df_train[target_col] == 0][col])\n",
    "    odds_series = (\n",
    "        df_train[df_train[target_col] == 1][col].value_counts()\n",
    "        /\n",
    "        df_train[df_train[target_col] == 0][col].value_counts()\n",
    "    )\n",
    "    odds_series = odds_series / all_good * all_bad\n",
    "    category_woe_dict = np.log(odds_series).to_dict()\n",
    "    df_train[col + '_woe'] = df_train[col].apply(category_woe_dict.get)\n",
    "    df_test[col + '_woe'] = df_test[col].apply(category_woe_dict.get)\n",
    "    return df_train, df_test"
   ]
  },
  {
   "cell_type": "code",
   "execution_count": 22,
   "metadata": {},
   "outputs": [],
   "source": [
    "from sklearn.model_selection import train_test_split\n"
   ]
  },
  {
   "cell_type": "code",
   "execution_count": 23,
   "metadata": {},
   "outputs": [],
   "source": [
    "y = datamart['target_sum'].copy()"
   ]
  },
  {
   "cell_type": "markdown",
   "metadata": {},
   "source": [
    "# Формирование выборки тренировочной и тестовой,\n",
    "# Для отладки использую сэмпл т.к. долго считается."
   ]
  },
  {
   "cell_type": "code",
   "execution_count": 24,
   "metadata": {},
   "outputs": [],
   "source": [
    "datamart_s = datamart.sample(1000)"
   ]
  },
  {
   "cell_type": "code",
   "execution_count": 25,
   "metadata": {},
   "outputs": [],
   "source": [
    "datamart_s = datamart.fillna(0)"
   ]
  },
  {
   "cell_type": "code",
   "execution_count": 26,
   "metadata": {},
   "outputs": [],
   "source": [
    "datamart_train, datamart_test, y_train, y_test = train_test_split(datamart_s, y, test_size=0.3, random_state=42)"
   ]
  },
  {
   "cell_type": "code",
   "execution_count": 44,
   "metadata": {},
   "outputs": [],
   "source": [
    "    columns_to_get_counts = [\n",
    "    'PERIOD_MONTH',\n",
    " #   'cl_id',\n",
    "    'MCC',\n",
    "    'channel_type',\n",
    "    'currency',\n",
    "    'trx_category',\n",
    "    'TR_week_day',\n",
    "    'TR_hour'\n",
    "    ]"
   ]
  },
  {
   "cell_type": "code",
   "execution_count": 45,
   "metadata": {},
   "outputs": [],
   "source": [
    "    data = get_one_hot(\n",
    "        datamart_train,\n",
    "        ['cl_id']\n",
    "    )"
   ]
  },
  {
   "cell_type": "code",
   "execution_count": 46,
   "metadata": {},
   "outputs": [],
   "source": [
    "    data = get_one_hot(\n",
    "        datamart_test,\n",
    "        ['cl_id']\n",
    "    )"
   ]
  },
  {
   "cell_type": "markdown",
   "metadata": {
    "scrolled": true
   },
   "source": [
    "# Нормализация и формирование WOE переменных"
   ]
  },
  {
   "cell_type": "code",
   "execution_count": 27,
   "metadata": {
    "scrolled": false
   },
   "outputs": [
    {
     "name": "stderr",
     "output_type": "stream",
     "text": [
      "C:\\Users\\rajah\\Anaconda3\\lib\\site-packages\\ipykernel_launcher.py:1: SettingWithCopyWarning: \n",
      "A value is trying to be set on a copy of a slice from a DataFrame.\n",
      "Try using .loc[row_indexer,col_indexer] = value instead\n",
      "\n",
      "See the caveats in the documentation: http://pandas.pydata.org/pandas-docs/stable/indexing.html#indexing-view-versus-copy\n",
      "  \"\"\"Entry point for launching an IPython kernel.\n"
     ]
    }
   ],
   "source": [
    "datamart_train['target_sum_norm'] = (datamart_train['target_sum']-datamart_train['target_sum'].min())/(datamart_train['target_sum'].max()-datamart_train['target_sum'].min())\n",
    "datamart_test['target_sum_norm'] = (datamart_test['target_sum']-datamart_test['target_sum'].min())/(datamart_test['target_sum'].max()-datamart_test['target_sum'].min())"
   ]
  },
  {
   "cell_type": "code",
   "execution_count": 36,
   "metadata": {},
   "outputs": [],
   "source": [
    "datamart_train['amount_norm'] = (datamart_train['amount']-datamart_train['amount'].min())/(datamart_train['amount'].max()-datamart_train['amount'].min())\n",
    "datamart_test['amount_norm'] = (datamart_test['amount']-datamart_test['amount'].min())/(datamart_test['amount'].max()-datamart_test['amount'].min())"
   ]
  },
  {
   "cell_type": "code",
   "execution_count": 32,
   "metadata": {
    "scrolled": true
   },
   "outputs": [
    {
     "name": "stderr",
     "output_type": "stream",
     "text": [
      "C:\\Users\\rajah\\Anaconda3\\lib\\site-packages\\ipykernel_launcher.py:1: SettingWithCopyWarning: \n",
      "A value is trying to be set on a copy of a slice from a DataFrame.\n",
      "Try using .loc[row_indexer,col_indexer] = value instead\n",
      "\n",
      "See the caveats in the documentation: http://pandas.pydata.org/pandas-docs/stable/indexing.html#indexing-view-versus-copy\n",
      "  \"\"\"Entry point for launching an IPython kernel.\n"
     ]
    }
   ],
   "source": []
  },
  {
   "cell_type": "code",
   "execution_count": null,
   "metadata": {},
   "outputs": [],
   "source": [
    "    for col_get_prob in columns_to_get_counts:\n",
    "        datamart_train, datamart_test = get_woe_v1(datamart_train, datamart_test, col_get_prob, \"target_sum_norm\" )"
   ]
  },
  {
   "cell_type": "code",
   "execution_count": 37,
   "metadata": {},
   "outputs": [],
   "source": [
    "datamart_train = datamart_train.fillna(0)\n",
    "datamart_test = datamart_train.fillna(0)"
   ]
  },
  {
   "cell_type": "code",
   "execution_count": 38,
   "metadata": {
    "scrolled": true
   },
   "outputs": [
    {
     "name": "stdout",
     "output_type": "stream",
     "text": [
      "<class 'pandas.core.frame.DataFrame'>\n",
      "Int64Index: 343359 entries, 392982 to 121958\n",
      "Data columns (total 17 columns):\n",
      "PERIOD              343359 non-null object\n",
      "PERIOD_MONTH        343359 non-null int64\n",
      "cl_id               343359 non-null int64\n",
      "MCC                 343359 non-null int64\n",
      "channel_type        343359 non-null object\n",
      "currency            343359 non-null int64\n",
      "TRDATETIME          343359 non-null object\n",
      "amount              343359 non-null float64\n",
      "trx_category        343359 non-null object\n",
      "target_flag         343359 non-null int64\n",
      "target_sum          343359 non-null float64\n",
      "TRDATETIME          343359 non-null object\n",
      "TR_week_day         343359 non-null int64\n",
      "TR_hour             343359 non-null int64\n",
      "usda_description    343359 non-null object\n",
      "target_sum_norm     343359 non-null float64\n",
      "amount_norm         343359 non-null float64\n",
      "dtypes: float64(4), int64(7), object(6)\n",
      "memory usage: 47.2+ MB\n"
     ]
    }
   ],
   "source": [
    "datamart_train.info()"
   ]
  },
  {
   "cell_type": "code",
   "execution_count": 49,
   "metadata": {
    "scrolled": true
   },
   "outputs": [
    {
     "data": {
      "text/html": [
       "<div>\n",
       "<style scoped>\n",
       "    .dataframe tbody tr th:only-of-type {\n",
       "        vertical-align: middle;\n",
       "    }\n",
       "\n",
       "    .dataframe tbody tr th {\n",
       "        vertical-align: top;\n",
       "    }\n",
       "\n",
       "    .dataframe thead th {\n",
       "        text-align: right;\n",
       "    }\n",
       "</style>\n",
       "<table border=\"1\" class=\"dataframe\">\n",
       "  <thead>\n",
       "    <tr style=\"text-align: right;\">\n",
       "      <th></th>\n",
       "      <th>PERIOD</th>\n",
       "      <th>PERIOD_MONTH</th>\n",
       "      <th>cl_id</th>\n",
       "      <th>MCC</th>\n",
       "      <th>channel_type</th>\n",
       "      <th>currency</th>\n",
       "      <th>TRDATETIME</th>\n",
       "      <th>amount</th>\n",
       "      <th>trx_category</th>\n",
       "      <th>target_flag</th>\n",
       "      <th>...</th>\n",
       "      <th>usda_description</th>\n",
       "      <th>target_sum_norm</th>\n",
       "      <th>amount_norm</th>\n",
       "      <th>PERIOD_MONTH_woe</th>\n",
       "      <th>MCC_woe</th>\n",
       "      <th>channel_type_woe</th>\n",
       "      <th>currency_woe</th>\n",
       "      <th>trx_category_woe</th>\n",
       "      <th>TR_week_day_woe</th>\n",
       "      <th>TR_hour_woe</th>\n",
       "    </tr>\n",
       "  </thead>\n",
       "  <tbody>\n",
       "    <tr>\n",
       "      <th>392982</th>\n",
       "      <td>01/09/2017</td>\n",
       "      <td>9</td>\n",
       "      <td>5812</td>\n",
       "      <td>5411</td>\n",
       "      <td>type1</td>\n",
       "      <td>810</td>\n",
       "      <td>16SEP17:00:00:00</td>\n",
       "      <td>2770.64</td>\n",
       "      <td>POS</td>\n",
       "      <td>1</td>\n",
       "      <td>...</td>\n",
       "      <td>Grocery Stores</td>\n",
       "      <td>0.005761</td>\n",
       "      <td>0.000197</td>\n",
       "      <td>NaN</td>\n",
       "      <td>-1.048473</td>\n",
       "      <td>NaN</td>\n",
       "      <td>0.015402</td>\n",
       "      <td>0.100962</td>\n",
       "      <td>0.607656</td>\n",
       "      <td>0.240388</td>\n",
       "    </tr>\n",
       "    <tr>\n",
       "      <th>406168</th>\n",
       "      <td>01/10/2017</td>\n",
       "      <td>10</td>\n",
       "      <td>2040</td>\n",
       "      <td>5814</td>\n",
       "      <td>type2</td>\n",
       "      <td>810</td>\n",
       "      <td>17OCT17:00:00:00</td>\n",
       "      <td>931.28</td>\n",
       "      <td>POS</td>\n",
       "      <td>1</td>\n",
       "      <td>...</td>\n",
       "      <td>Fast Food Restaurants</td>\n",
       "      <td>0.002740</td>\n",
       "      <td>0.000066</td>\n",
       "      <td>NaN</td>\n",
       "      <td>-1.334935</td>\n",
       "      <td>2.15389</td>\n",
       "      <td>0.015402</td>\n",
       "      <td>0.100962</td>\n",
       "      <td>-0.717365</td>\n",
       "      <td>0.240388</td>\n",
       "    </tr>\n",
       "    <tr>\n",
       "      <th>144367</th>\n",
       "      <td>01/04/2017</td>\n",
       "      <td>4</td>\n",
       "      <td>3822</td>\n",
       "      <td>5411</td>\n",
       "      <td>type1</td>\n",
       "      <td>810</td>\n",
       "      <td>25APR17:00:00:00</td>\n",
       "      <td>362.00</td>\n",
       "      <td>POS</td>\n",
       "      <td>1</td>\n",
       "      <td>...</td>\n",
       "      <td>Grocery Stores</td>\n",
       "      <td>0.003545</td>\n",
       "      <td>0.000026</td>\n",
       "      <td>1.208242</td>\n",
       "      <td>-1.048473</td>\n",
       "      <td>NaN</td>\n",
       "      <td>0.015402</td>\n",
       "      <td>0.100962</td>\n",
       "      <td>-0.717365</td>\n",
       "      <td>0.240388</td>\n",
       "    </tr>\n",
       "    <tr>\n",
       "      <th>432083</th>\n",
       "      <td>01/11/2016</td>\n",
       "      <td>11</td>\n",
       "      <td>9667</td>\n",
       "      <td>5814</td>\n",
       "      <td>type1</td>\n",
       "      <td>810</td>\n",
       "      <td>01NOV16:00:00:00</td>\n",
       "      <td>617.00</td>\n",
       "      <td>POS</td>\n",
       "      <td>0</td>\n",
       "      <td>...</td>\n",
       "      <td>Fast Food Restaurants</td>\n",
       "      <td>0.000000</td>\n",
       "      <td>0.000044</td>\n",
       "      <td>NaN</td>\n",
       "      <td>-1.334935</td>\n",
       "      <td>NaN</td>\n",
       "      <td>0.015402</td>\n",
       "      <td>0.100962</td>\n",
       "      <td>-0.717365</td>\n",
       "      <td>NaN</td>\n",
       "    </tr>\n",
       "    <tr>\n",
       "      <th>306406</th>\n",
       "      <td>01/07/2017</td>\n",
       "      <td>7</td>\n",
       "      <td>4984</td>\n",
       "      <td>5812</td>\n",
       "      <td>type1</td>\n",
       "      <td>810</td>\n",
       "      <td>06JUL17:00:00:00</td>\n",
       "      <td>231.00</td>\n",
       "      <td>POS</td>\n",
       "      <td>1</td>\n",
       "      <td>...</td>\n",
       "      <td>Eating places and Restaurants</td>\n",
       "      <td>0.000435</td>\n",
       "      <td>0.000016</td>\n",
       "      <td>NaN</td>\n",
       "      <td>-0.133049</td>\n",
       "      <td>NaN</td>\n",
       "      <td>0.015402</td>\n",
       "      <td>0.100962</td>\n",
       "      <td>-0.751913</td>\n",
       "      <td>0.240388</td>\n",
       "    </tr>\n",
       "  </tbody>\n",
       "</table>\n",
       "<p>5 rows × 24 columns</p>\n",
       "</div>"
      ],
      "text/plain": [
       "            PERIOD  PERIOD_MONTH  cl_id   MCC channel_type  currency  \\\n",
       "392982  01/09/2017             9   5812  5411        type1       810   \n",
       "406168  01/10/2017            10   2040  5814        type2       810   \n",
       "144367  01/04/2017             4   3822  5411        type1       810   \n",
       "432083  01/11/2016            11   9667  5814        type1       810   \n",
       "306406  01/07/2017             7   4984  5812        type1       810   \n",
       "\n",
       "              TRDATETIME   amount trx_category  target_flag     ...       \\\n",
       "392982  16SEP17:00:00:00  2770.64          POS            1     ...        \n",
       "406168  17OCT17:00:00:00   931.28          POS            1     ...        \n",
       "144367  25APR17:00:00:00   362.00          POS            1     ...        \n",
       "432083  01NOV16:00:00:00   617.00          POS            0     ...        \n",
       "306406  06JUL17:00:00:00   231.00          POS            1     ...        \n",
       "\n",
       "                     usda_description target_sum_norm  amount_norm  \\\n",
       "392982                 Grocery Stores        0.005761     0.000197   \n",
       "406168          Fast Food Restaurants        0.002740     0.000066   \n",
       "144367                 Grocery Stores        0.003545     0.000026   \n",
       "432083          Fast Food Restaurants        0.000000     0.000044   \n",
       "306406  Eating places and Restaurants        0.000435     0.000016   \n",
       "\n",
       "        PERIOD_MONTH_woe   MCC_woe  channel_type_woe  currency_woe  \\\n",
       "392982               NaN -1.048473               NaN      0.015402   \n",
       "406168               NaN -1.334935           2.15389      0.015402   \n",
       "144367          1.208242 -1.048473               NaN      0.015402   \n",
       "432083               NaN -1.334935               NaN      0.015402   \n",
       "306406               NaN -0.133049               NaN      0.015402   \n",
       "\n",
       "        trx_category_woe  TR_week_day_woe  TR_hour_woe  \n",
       "392982          0.100962         0.607656     0.240388  \n",
       "406168          0.100962        -0.717365     0.240388  \n",
       "144367          0.100962        -0.717365     0.240388  \n",
       "432083          0.100962        -0.717365          NaN  \n",
       "306406          0.100962        -0.751913     0.240388  \n",
       "\n",
       "[5 rows x 24 columns]"
      ]
     },
     "execution_count": 49,
     "metadata": {},
     "output_type": "execute_result"
    }
   ],
   "source": [
    "datamart_train.head()"
   ]
  },
  {
   "cell_type": "code",
   "execution_count": 60,
   "metadata": {},
   "outputs": [],
   "source": [
    "datamart_train = datamart_train.fillna(0)\n",
    "datamart_test = datamart_train.fillna(0)"
   ]
  },
  {
   "cell_type": "code",
   "execution_count": 50,
   "metadata": {},
   "outputs": [],
   "source": [
    "train_columns = [\n",
    "    col for col in datamart_train.columns.tolist()\n",
    "    if col not in set(\n",
    "        [\n",
    "'PERIOD',\n",
    "            'PERIOD_MONTH',\n",
    " 'cl_id',\n",
    " 'MCC',\n",
    "             'TR_week_day',\n",
    "            'amount',\n",
    " 'channel_type',\n",
    " 'currency',\n",
    " 'TRDATETIME', \n",
    " 'trx_category',\n",
    " 'target_flag',\n",
    " 'usda_description',\n",
    "  'channel_type_woe',\n",
    " 'target_sum',\n",
    "            \n",
    " 'TR_hour',\n",
    "            'currency_woe'\n",
    "        ]\n",
    "    )\n",
    "]"
   ]
  },
  {
   "cell_type": "code",
   "execution_count": 51,
   "metadata": {},
   "outputs": [
    {
     "data": {
      "text/plain": [
       "['target_sum_norm',\n",
       " 'amount_norm',\n",
       " 'PERIOD_MONTH_woe',\n",
       " 'MCC_woe',\n",
       " 'trx_category_woe',\n",
       " 'TR_week_day_woe',\n",
       " 'TR_hour_woe']"
      ]
     },
     "execution_count": 51,
     "metadata": {},
     "output_type": "execute_result"
    }
   ],
   "source": [
    "train_columns"
   ]
  },
  {
   "cell_type": "markdown",
   "metadata": {},
   "source": [
    "# Зависимость переменных"
   ]
  },
  {
   "cell_type": "code",
   "execution_count": 52,
   "metadata": {},
   "outputs": [
    {
     "data": {
      "text/html": [
       "<div>\n",
       "<style scoped>\n",
       "    .dataframe tbody tr th:only-of-type {\n",
       "        vertical-align: middle;\n",
       "    }\n",
       "\n",
       "    .dataframe tbody tr th {\n",
       "        vertical-align: top;\n",
       "    }\n",
       "\n",
       "    .dataframe thead th {\n",
       "        text-align: right;\n",
       "    }\n",
       "</style>\n",
       "<table border=\"1\" class=\"dataframe\">\n",
       "  <thead>\n",
       "    <tr style=\"text-align: right;\">\n",
       "      <th></th>\n",
       "      <th>target_sum_norm</th>\n",
       "      <th>amount_norm</th>\n",
       "      <th>PERIOD_MONTH_woe</th>\n",
       "      <th>MCC_woe</th>\n",
       "      <th>trx_category_woe</th>\n",
       "      <th>TR_week_day_woe</th>\n",
       "      <th>TR_hour_woe</th>\n",
       "    </tr>\n",
       "  </thead>\n",
       "  <tbody>\n",
       "    <tr>\n",
       "      <th>target_sum_norm</th>\n",
       "      <td>1.000000e+00</td>\n",
       "      <td>-1.700674e-03</td>\n",
       "      <td>4.734199e-03</td>\n",
       "      <td>1.931503e-02</td>\n",
       "      <td>8.979739e-03</td>\n",
       "      <td>3.569380e-03</td>\n",
       "      <td>-1.137904e-14</td>\n",
       "    </tr>\n",
       "    <tr>\n",
       "      <th>amount_norm</th>\n",
       "      <td>-1.700674e-03</td>\n",
       "      <td>1.000000e+00</td>\n",
       "      <td>9.299826e-03</td>\n",
       "      <td>-5.052954e-02</td>\n",
       "      <td>2.320289e-02</td>\n",
       "      <td>-8.651842e-03</td>\n",
       "      <td>4.357817e-15</td>\n",
       "    </tr>\n",
       "    <tr>\n",
       "      <th>PERIOD_MONTH_woe</th>\n",
       "      <td>4.734199e-03</td>\n",
       "      <td>9.299826e-03</td>\n",
       "      <td>1.000000e+00</td>\n",
       "      <td>2.049910e-03</td>\n",
       "      <td>-2.274003e-03</td>\n",
       "      <td>2.304166e-02</td>\n",
       "      <td>-4.373731e-12</td>\n",
       "    </tr>\n",
       "    <tr>\n",
       "      <th>MCC_woe</th>\n",
       "      <td>1.931503e-02</td>\n",
       "      <td>-5.052954e-02</td>\n",
       "      <td>2.049910e-03</td>\n",
       "      <td>1.000000e+00</td>\n",
       "      <td>-7.011401e-02</td>\n",
       "      <td>1.798561e-02</td>\n",
       "      <td>8.208545e-15</td>\n",
       "    </tr>\n",
       "    <tr>\n",
       "      <th>trx_category_woe</th>\n",
       "      <td>8.979739e-03</td>\n",
       "      <td>2.320289e-02</td>\n",
       "      <td>-2.274003e-03</td>\n",
       "      <td>-7.011401e-02</td>\n",
       "      <td>1.000000e+00</td>\n",
       "      <td>-4.847316e-03</td>\n",
       "      <td>1.164892e-12</td>\n",
       "    </tr>\n",
       "    <tr>\n",
       "      <th>TR_week_day_woe</th>\n",
       "      <td>3.569380e-03</td>\n",
       "      <td>-8.651842e-03</td>\n",
       "      <td>2.304166e-02</td>\n",
       "      <td>1.798561e-02</td>\n",
       "      <td>-4.847316e-03</td>\n",
       "      <td>1.000000e+00</td>\n",
       "      <td>-2.053230e-13</td>\n",
       "    </tr>\n",
       "    <tr>\n",
       "      <th>TR_hour_woe</th>\n",
       "      <td>-1.137904e-14</td>\n",
       "      <td>4.357817e-15</td>\n",
       "      <td>-4.373731e-12</td>\n",
       "      <td>8.208545e-15</td>\n",
       "      <td>1.164892e-12</td>\n",
       "      <td>-2.053230e-13</td>\n",
       "      <td>1.000000e+00</td>\n",
       "    </tr>\n",
       "  </tbody>\n",
       "</table>\n",
       "</div>"
      ],
      "text/plain": [
       "                  target_sum_norm   amount_norm  PERIOD_MONTH_woe  \\\n",
       "target_sum_norm      1.000000e+00 -1.700674e-03      4.734199e-03   \n",
       "amount_norm         -1.700674e-03  1.000000e+00      9.299826e-03   \n",
       "PERIOD_MONTH_woe     4.734199e-03  9.299826e-03      1.000000e+00   \n",
       "MCC_woe              1.931503e-02 -5.052954e-02      2.049910e-03   \n",
       "trx_category_woe     8.979739e-03  2.320289e-02     -2.274003e-03   \n",
       "TR_week_day_woe      3.569380e-03 -8.651842e-03      2.304166e-02   \n",
       "TR_hour_woe         -1.137904e-14  4.357817e-15     -4.373731e-12   \n",
       "\n",
       "                       MCC_woe  trx_category_woe  TR_week_day_woe  \\\n",
       "target_sum_norm   1.931503e-02      8.979739e-03     3.569380e-03   \n",
       "amount_norm      -5.052954e-02      2.320289e-02    -8.651842e-03   \n",
       "PERIOD_MONTH_woe  2.049910e-03     -2.274003e-03     2.304166e-02   \n",
       "MCC_woe           1.000000e+00     -7.011401e-02     1.798561e-02   \n",
       "trx_category_woe -7.011401e-02      1.000000e+00    -4.847316e-03   \n",
       "TR_week_day_woe   1.798561e-02     -4.847316e-03     1.000000e+00   \n",
       "TR_hour_woe       8.208545e-15      1.164892e-12    -2.053230e-13   \n",
       "\n",
       "                   TR_hour_woe  \n",
       "target_sum_norm  -1.137904e-14  \n",
       "amount_norm       4.357817e-15  \n",
       "PERIOD_MONTH_woe -4.373731e-12  \n",
       "MCC_woe           8.208545e-15  \n",
       "trx_category_woe  1.164892e-12  \n",
       "TR_week_day_woe  -2.053230e-13  \n",
       "TR_hour_woe       1.000000e+00  "
      ]
     },
     "execution_count": 52,
     "metadata": {},
     "output_type": "execute_result"
    }
   ],
   "source": [
    "corr = datamart_train[train_columns].corr()\n",
    "corr"
   ]
  },
  {
   "cell_type": "code",
   "execution_count": 53,
   "metadata": {},
   "outputs": [
    {
     "data": {
      "text/plain": [
       "<matplotlib.axes._subplots.AxesSubplot at 0x1ae0811ff28>"
      ]
     },
     "execution_count": 53,
     "metadata": {},
     "output_type": "execute_result"
    },
    {
     "data": {
      "image/png": "[encoded data removed]",
      "text/plain": [
       "<Figure size 1080x576 with 2 Axes>"
      ]
     },
     "metadata": {
      "needs_background": "light"
     },
     "output_type": "display_data"
    }
   ],
   "source": [
    "plt.figure(figsize=(15,8))\n",
    "sns.heatmap(corr, annot=True,\n",
    "            xticklabels=corr.columns.values,\n",
    "            yticklabels=corr.columns.values)"
   ]
  },
  {
   "cell_type": "code",
   "execution_count": 132,
   "metadata": {},
   "outputs": [],
   "source": [
    "train_columns = [\n",
    "    col for col in datamart_train.columns.tolist()\n",
    "    if col not in set(\n",
    "        [\n",
    "'PERIOD',\n",
    "   'PERIOD_MONTH',\n",
    " 'cl_id',\n",
    " 'MCC',\n",
    " 'channel_type',\n",
    " 'currency',\n",
    " 'TRDATETIME', \n",
    " 'trx_category',\n",
    " 'target_flag',\n",
    " 'usda_description',\n",
    "  'channel_type_woe',\n",
    " 'target_sum',\n",
    " 'TR_hour_woe',\n",
    "            'currency_woe',\n",
    "             'TR_hour',\n",
    "            'amount'\n",
    "        ]\n",
    "    )\n",
    "]"
   ]
  },
  {
   "cell_type": "code",
   "execution_count": 133,
   "metadata": {},
   "outputs": [
    {
     "data": {
      "text/plain": [
       "['TR_week_day',\n",
       " 'target_sum_norm',\n",
       " 'amount_norm',\n",
       " 'PERIOD_MONTH_woe',\n",
       " 'MCC_woe',\n",
       " 'trx_category_woe',\n",
       " 'TR_week_day_woe']"
      ]
     },
     "execution_count": 133,
     "metadata": {},
     "output_type": "execute_result"
    }
   ],
   "source": [
    "train_columns"
   ]
  },
  {
   "cell_type": "code",
   "execution_count": 56,
   "metadata": {},
   "outputs": [],
   "source": [
    "x_train = datamart_train[train_columns]\n",
    "y_train = datamart_train['target_sum']\n",
    "x_test = datamart_test[train_columns]\n",
    "y_test = datamart_test['target_sum']"
   ]
  },
  {
   "cell_type": "markdown",
   "metadata": {},
   "source": [
    "# Тут я попытался использовать XBOOST, но очень долго считается, я думаю не сходится алгоритм, но опыта пока недостаточно понять в чем дело."
   ]
  },
  {
   "cell_type": "code",
   "execution_count": null,
   "metadata": {},
   "outputs": [],
   "source": [
    "import xgboost\n",
    "xgb = xgboost.XGBClassifier(max_depth=3)#, n_jobs=-1)\n",
    "xgb.fit(x_train, y_train)\n",
    "y_train_predict = xgb.predict_proba(x_train)[:, 1]\n",
    "y_test_predict = xgb.predict_proba(x_test)[:, 1]\n",
    "roc_auc_train = np.round(roc_auc_score(y_train, y_train_predict), 2)\n",
    "roc_auc_test = np.round(roc_auc_score(y_test, y_test_predict), 2)\n",
    "print(\"Train: \", roc_auc_train)\n",
    "print(\"Test: \", roc_auc_test)"
   ]
  },
  {
   "cell_type": "code",
   "execution_count": null,
   "metadata": {},
   "outputs": [],
   "source": [
    "Dep_left_count_df = datamat.groupby(['cl_id','TR_week_day'])[['MCC_woe']].count(). # \n",
    "Dep_count_df = data.groupby(['sales','salary'])[['salary']].count()\n",
    "Dep_avg_sat_df = data.groupby(['sales','salary'])['satisfaction_level'].agg(['mean'])\n",
    "Dep_df = Dep_left_count_df.join(Dep_count_df)\n",
    "Dep_df = Dep_df.join(Dep_avg_sat_df)\n",
    "Dep_df"
   ]
  },
  {
   "cell_type": "code",
   "execution_count": 78,
   "metadata": {},
   "outputs": [],
   "source": [
    "# Common imports\n",
    "import pandas as pd\n",
    "import numpy as np\n",
    "import statsmodels.api as sm\n",
    "import statsmodels.formula.api as smf\n",
    "\n",
    "# to make this notebook's output stable across runs\n",
    "np.random.seed(42)\n",
    "\n",
    "# To plot pretty figures\n",
    "import matplotlib\n",
    "import matplotlib.pyplot as plt\n",
    "from mpl_toolkits.mplot3d import axes3d\n",
    "%matplotlib inline\n",
    "\n",
    "plt.rcParams['axes.labelsize'] = 14\n",
    "plt.rcParams['xtick.labelsize'] = 12\n",
    "plt.rcParams['ytick.labelsize'] = 12\n",
    "plt.rcParams['figure.figsize'] = (10, 5)"
   ]
  },
  {
   "cell_type": "markdown",
   "metadata": {},
   "source": [
    "# Регрессии\n"
   ]
  },
  {
   "cell_type": "code",
   "execution_count": 82,
   "metadata": {},
   "outputs": [
    {
     "data": {
      "text/html": [
       "<table class=\"simpletable\">\n",
       "<tr>\n",
       "          <td></td>            <th>coef</th>     <th>std err</th>      <th>t</th>      <th>P>|t|</th>  <th>[0.025</th>    <th>0.975]</th>  \n",
       "</tr>\n",
       "<tr>\n",
       "  <th>Intercept</th>        <td> 2.456e+05</td> <td> 6348.816</td> <td>   38.688</td> <td> 0.000</td> <td> 2.33e+05</td> <td> 2.58e+05</td>\n",
       "</tr>\n",
       "<tr>\n",
       "  <th>amount_norm</th>      <td>-6.483e+05</td> <td> 8.14e+05</td> <td>   -0.797</td> <td> 0.426</td> <td>-2.24e+06</td> <td> 9.47e+05</td>\n",
       "</tr>\n",
       "<tr>\n",
       "  <th>PERIOD_MONTH_woe</th> <td> 2.663e+04</td> <td> 5284.330</td> <td>    5.040</td> <td> 0.000</td> <td> 1.63e+04</td> <td>  3.7e+04</td>\n",
       "</tr>\n",
       "<tr>\n",
       "  <th>MCC_woe</th>          <td>  3.02e+04</td> <td> 2690.851</td> <td>   11.223</td> <td> 0.000</td> <td> 2.49e+04</td> <td> 3.55e+04</td>\n",
       "</tr>\n",
       "<tr>\n",
       "  <th>trx_category_woe</th> <td> 6.019e+04</td> <td> 8755.846</td> <td>    6.874</td> <td> 0.000</td> <td>  4.3e+04</td> <td> 7.74e+04</td>\n",
       "</tr>\n",
       "<tr>\n",
       "  <th>TR_week_day_woe</th>  <td> 8219.8967</td> <td> 5081.835</td> <td>    1.618</td> <td> 0.106</td> <td>-1740.352</td> <td> 1.82e+04</td>\n",
       "</tr>\n",
       "<tr>\n",
       "  <th>TR_hour_woe</th>      <td>-4.494e+05</td> <td> 2.94e+04</td> <td>  -15.262</td> <td> 0.000</td> <td>-5.07e+05</td> <td>-3.92e+05</td>\n",
       "</tr>\n",
       "</table>"
      ],
      "text/plain": [
       "<class 'statsmodels.iolib.table.SimpleTable'>"
      ]
     },
     "execution_count": 82,
     "metadata": {},
     "output_type": "execute_result"
    }
   ],
   "source": [
    "est = smf.ols('target_sum ~ amount_norm+PERIOD_MONTH_woe+MCC_woe+trx_category_woe+TR_week_day_woe+TR_hour_woe', datamart_train).fit()\n",
    "est_res = est.summary()\n",
    "est_res.tables[1]"
   ]
  },
  {
   "cell_type": "code",
   "execution_count": 83,
   "metadata": {},
   "outputs": [
    {
     "name": "stdout",
     "output_type": "stream",
     "text": [
      "RSS: 339.816572565059\n",
      "RSE: 0.03145941116770619\n",
      "R^2: 0.00116663884056456\n"
     ]
    }
   ],
   "source": [
    "three_x_lm = smf.ols('target_sum_norm ~ amount_norm+PERIOD_MONTH_woe+MCC_woe+trx_category_woe+TR_week_day_woe+TR_hour_woe', datamart_train).fit()\n",
    "rss = np.sum(three_x_lm.resid ** 2)\n",
    "print(\"RSS:\", rss)\n",
    "print(\"RSE:\", np.sqrt(rss / (datamart_train.shape[0] - 3 - 1)))\n",
    "print(\"R^2:\", three_x_lm.rsquared)"
   ]
  },
  {
   "cell_type": "code",
   "execution_count": 63,
   "metadata": {},
   "outputs": [],
   "source": [
    "from sklearn.linear_model import Ridge, Lasso"
   ]
  },
  {
   "cell_type": "code",
   "execution_count": 71,
   "metadata": {
    "scrolled": true
   },
   "outputs": [
    {
     "name": "stderr",
     "output_type": "stream",
     "text": [
      "C:\\Users\\rajah\\Anaconda3\\lib\\site-packages\\ipykernel_launcher.py:1: FutureWarning: Method .as_matrix will be removed in a future version. Use .values instead.\n",
      "  \"\"\"Entry point for launching an IPython kernel.\n"
     ]
    }
   ],
   "source": [
    "X = datamart_train[train_columns].as_matrix()\n",
    "y = datamart_train.target_sum_norm"
   ]
  },
  {
   "cell_type": "code",
   "execution_count": 108,
   "metadata": {},
   "outputs": [
    {
     "name": "stdout",
     "output_type": "stream",
     "text": [
      "0.003494203806005189\n",
      "[-0.  0.  0. -0.  0.  0.  0.  0.]\n"
     ]
    }
   ],
   "source": [
    "rg = Lasso(alpha=1000, normalize=True, max_iter=1e5).fit(X, y)\n",
    "print(rg.intercept_)\n",
    "print(rg.coef_)"
   ]
  },
  {
   "cell_type": "code",
   "execution_count": 109,
   "metadata": {},
   "outputs": [
    {
     "name": "stdout",
     "output_type": "stream",
     "text": [
      "0.003494203806005189\n",
      "[-0.  0.  0. -0.  0.  0.  0.  0.]\n"
     ]
    }
   ],
   "source": [
    "rg2 = Ridge(alpha=1000, normalize=True, max_iter=1e5).fit(X, y)\n",
    "print(rg.intercept_)\n",
    "print(rg.coef_)"
   ]
  },
  {
   "cell_type": "code",
   "execution_count": 123,
   "metadata": {},
   "outputs": [],
   "source": [
    "from sklearn.linear_model import Lasso\n",
    "\n",
    "def lasso_regression(data, predictors, alpha, models_to_plot={}):\n",
    "    # fit\n",
    "    lassoreg = Lasso(alpha=alpha, normalize=True, max_iter=1e5)\n",
    "    lassoreg.fit(data[predictors], data['target_sum'])\n",
    "    y_pred = lassoreg.predict(data[predictors])\n",
    "    \n",
    "    if alpha in models_to_plot:\n",
    "        plt.subplot(models_to_plot[alpha])\n",
    "        plt.tight_layout()\n",
    "        plt.plot(data['target_sum'], y_pred)\n",
    "        plt.plot(data['target_sum'], data['target_sum'], '.')\n",
    "        plt.title('Plot for alpha: %.3g' % alpha)\n",
    "    \n",
    "    # format\n",
    "    rss = sum((y_pred-data['target_sum']) ** 2)\n",
    "    ret = [rss]\n",
    "    ret.extend([lassoreg.intercept_])\n",
    "    ret.extend(lassoreg.coef_)\n",
    "    return ret"
   ]
  },
  {
   "cell_type": "code",
   "execution_count": 124,
   "metadata": {},
   "outputs": [],
   "source": [
    "predictors = []"
   ]
  },
  {
   "cell_type": "code",
   "execution_count": 134,
   "metadata": {},
   "outputs": [
    {
     "data": {
      "text/plain": [
       "['TR_week_day',\n",
       " 'target_sum_norm',\n",
       " 'amount_norm',\n",
       " 'PERIOD_MONTH_woe',\n",
       " 'MCC_woe',\n",
       " 'trx_category_woe',\n",
       " 'TR_week_day_woe']"
      ]
     },
     "execution_count": 134,
     "metadata": {},
     "output_type": "execute_result"
    }
   ],
   "source": [
    "train_columns"
   ]
  },
  {
   "cell_type": "code",
   "execution_count": 135,
   "metadata": {},
   "outputs": [
    {
     "data": {
      "text/plain": [
       "[498773674.74623114,\n",
       " -73.8881523590826,\n",
       " 22.042664996197804,\n",
       " 46065785.265132986,\n",
       " -278.8950909924198,\n",
       " 0.6685199229366013,\n",
       " 1.602483014332573,\n",
       " 1.0948722502821986,\n",
       " -44.301862924925416]"
      ]
     },
     "execution_count": 135,
     "metadata": {},
     "output_type": "execute_result"
    }
   ],
   "source": [
    "predictors = train_columns\n",
    "lasso_regression(datamart_train, predictors, alpha_lasso[i], models_to_plot)"
   ]
  },
  {
   "cell_type": "code",
   "execution_count": 138,
   "metadata": {},
   "outputs": [
    {
     "data": {
      "image/png": "[encoded data removed]",
      "text/plain": [
       "<Figure size 720x360 with 6 Axes>"
      ]
     },
     "metadata": {
      "needs_background": "light"
     },
     "output_type": "display_data"
    }
   ],
   "source": [
    "predictors = train_columns\n",
    "#predictors.extend(['x_%d' % i for i in range(2, 16)])\n",
    "\n",
    "# alphas\n",
    "alpha_lasso = [1e-15, 1e-10, 1e-8, 1e-5,1e-4, 1e-3,1e-2, 1, 5, 10]\n",
    "\n",
    "# create dataframe to store coefficients\n",
    "col = ['rss', 'intercept'] + ['coef_%d' % i for i in range(1, 8)]\n",
    "ind = ['alpha_%.2g' % alpha_lasso[i] for i in range(0, 10)]\n",
    "coef_matrix_lasso = pd.DataFrame(index=ind, columns=col)\n",
    "\n",
    "\n",
    "models_to_plot = {1e-10: 231, 1e-5: 232, 1e-4: 233, 1e-3: 234, 1e-2: 235, 1: 236}\n",
    "\n",
    "#Iterate over the 10 alpha values:\n",
    "for i in range(10):\n",
    "    coef_matrix_lasso.iloc[i, ] = lasso_regression(datamart_train, predictors, alpha_lasso[i], models_to_plot)\n",
    "plt.show()"
   ]
  },
  {
   "cell_type": "markdown",
   "metadata": {},
   "source": [
    "# Предсказательные силы моделей никакие как я понимаю. Буду учиться дальше)"
   ]
  },
  {
   "cell_type": "code",
   "execution_count": null,
   "metadata": {},
   "outputs": [],
   "source": []
  }
 ],
 "metadata": {
  "kernelspec": {
   "display_name": "Python 3",
   "language": "python",
   "name": "python3"
  },
  "language_info": {
   "codemirror_mode": {
    "name": "ipython",
    "version": 3
   },
   "file_extension": ".py",
   "mimetype": "text/x-python",
   "name": "python",
   "nbconvert_exporter": "python",
   "pygments_lexer": "ipython3",
   "version": "3.6.6"
  }
 },
 "nbformat": 4,
 "nbformat_minor": 2
}
