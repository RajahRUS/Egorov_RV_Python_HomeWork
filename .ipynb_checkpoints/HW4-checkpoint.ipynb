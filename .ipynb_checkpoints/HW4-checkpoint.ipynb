{
 "cells": [
  {
   "cell_type": "code",
   "execution_count": 403,
   "metadata": {},
   "outputs": [],
   "source": [
    "#1 и\n",
    "\n",
    "from datetime import timedelta\n",
    "from datetime import date\n",
    "\n",
    "def date_range(start_date, end_date):\n",
    "    \n",
    "    try:\n",
    "        lst = [] \n",
    "        date_format = '%Y-%m-%d'\n",
    "        a = datetime.strptime(start_date, date_format)\n",
    "        b = datetime.strptime(end_date, date_format)\n",
    "        if a > b :\n",
    "            print('start_date больше end_date')\n",
    "            return []\n",
    "            \n",
    "        else:\n",
    "            c = a\n",
    "\n",
    "\n",
    "            while  c < b-timedelta(days=1)   :\n",
    "\n",
    "\n",
    "\n",
    "               # print(c.strftime(date_format))\n",
    "                c += timedelta(days=1) \n",
    "                lst.append(c.strftime(date_format))\n",
    "            return lst\n",
    "\n",
    "    except Exception as e:\n",
    "        print(e)\n",
    "    \n",
    "    print('Неверный формат')\n"
   ]
  },
  {
   "cell_type": "code",
   "execution_count": 404,
   "metadata": {},
   "outputs": [
    {
     "data": {
      "text/plain": [
       "['2018-09-04',\n",
       " '2018-09-05',\n",
       " '2018-09-06',\n",
       " '2018-09-07',\n",
       " '2018-09-08',\n",
       " '2018-09-09',\n",
       " '2018-09-10',\n",
       " '2018-09-11',\n",
       " '2018-09-12',\n",
       " '2018-09-13',\n",
       " '2018-09-14']"
      ]
     },
     "execution_count": 404,
     "metadata": {},
     "output_type": "execute_result"
    }
   ],
   "source": [
    "start_date = '2018-09-03'\n",
    "end_date = '2018-09-15'\n",
    "\n",
    "date_range(start_date,end_date)"
   ]
  },
  {
   "cell_type": "code",
   "execution_count": 405,
   "metadata": {},
   "outputs": [],
   "source": [
    "# 3 \n",
    "stream = ['2018-04-02', '2018-02-29', '2018-19-02']"
   ]
  },
  {
   "cell_type": "code",
   "execution_count": 406,
   "metadata": {},
   "outputs": [],
   "source": [
    "def date_range_check(streams):\n",
    "    lst = []\n",
    "    for i in streams:\n",
    "        try: \n",
    "           # print(i)\n",
    "            datetime.strptime(i, '%Y-%m-%d')\n",
    "            lst.append('True')\n",
    "        except ValueError:\n",
    "            lst.append('False')\n",
    "    return lst   \n",
    "        "
   ]
  },
  {
   "cell_type": "code",
   "execution_count": 407,
   "metadata": {},
   "outputs": [
    {
     "data": {
      "text/plain": [
       "['True', 'False', 'False']"
      ]
     },
     "execution_count": 407,
     "metadata": {},
     "output_type": "execute_result"
    }
   ],
   "source": [
    "date_range_check(stream)\n"
   ]
  },
  {
   "cell_type": "code",
   "execution_count": 408,
   "metadata": {},
   "outputs": [],
   "source": [
    "# 4 \n",
    "\n",
    "def date_range_yesterday():\n",
    "    date_format = '%Y-%m-%d'\n",
    "    end_date = date.today() - timedelta(days=0) \n",
    "    start_date = date(end_date.year,end_date.month,1)  \n",
    "    if start_date >= end_date:\n",
    "        start_date = date(end_date.year,end_date.month-1,1)\n",
    "    start_date-=timedelta(days=1) \n",
    "    end_date = end_date.strftime(date_format)\n",
    "    start_date = start_date.strftime(date_format)\n",
    "    print ('Диапазон дат:',start_date, ' по ',end_date)\n",
    "    lst = date_range(start_date, end_date)\n",
    "    return lst"
   ]
  },
  {
   "cell_type": "code",
   "execution_count": 409,
   "metadata": {},
   "outputs": [
    {
     "name": "stdout",
     "output_type": "stream",
     "text": [
      "Диапазон дат: 2018-08-31  по  2018-09-15\n"
     ]
    },
    {
     "data": {
      "text/plain": [
       "['2018-09-01',\n",
       " '2018-09-02',\n",
       " '2018-09-03',\n",
       " '2018-09-04',\n",
       " '2018-09-05',\n",
       " '2018-09-06',\n",
       " '2018-09-07',\n",
       " '2018-09-08',\n",
       " '2018-09-09',\n",
       " '2018-09-10',\n",
       " '2018-09-11',\n",
       " '2018-09-12',\n",
       " '2018-09-13',\n",
       " '2018-09-14']"
      ]
     },
     "execution_count": 409,
     "metadata": {},
     "output_type": "execute_result"
    }
   ],
   "source": [
    "x = date_range_yesterday()\n",
    "x"
   ]
  },
  {
   "cell_type": "code",
   "execution_count": 411,
   "metadata": {},
   "outputs": [],
   "source": [
    "# 5\n",
    "\n",
    "\n",
    "def return_date(phrase):\n",
    "    date_format = '%Y-%m-%d'\n",
    "    if phrase == 'today':\n",
    "        return date.today().strftime(date_format)\n",
    "    if phrase == 'last monday':\n",
    "        return (date(date.today().year, date.today().month, date.today().day - date.today().weekday()) - timedelta(days=7) ).strftime(date_format)\n",
    "    if phrase ==  'last day' :\n",
    "        return (date(date.today().year, date.today().month+1, 1) - timedelta(days=1) ).strftime(date_format)"
   ]
  },
  {
   "cell_type": "code",
   "execution_count": 412,
   "metadata": {},
   "outputs": [
    {
     "data": {
      "text/plain": [
       "'2018-09-15'"
      ]
     },
     "execution_count": 412,
     "metadata": {},
     "output_type": "execute_result"
    }
   ],
   "source": [
    "return_date('today')"
   ]
  },
  {
   "cell_type": "code",
   "execution_count": 413,
   "metadata": {},
   "outputs": [
    {
     "data": {
      "text/plain": [
       "'2018-09-03'"
      ]
     },
     "execution_count": 413,
     "metadata": {},
     "output_type": "execute_result"
    }
   ],
   "source": [
    "return_date('last monday')"
   ]
  },
  {
   "cell_type": "code",
   "execution_count": 414,
   "metadata": {},
   "outputs": [
    {
     "data": {
      "text/plain": [
       "'2018-09-30'"
      ]
     },
     "execution_count": 414,
     "metadata": {},
     "output_type": "execute_result"
    }
   ],
   "source": [
    "return_date('last day')"
   ]
  },
  {
   "cell_type": "code",
   "execution_count": 415,
   "metadata": {},
   "outputs": [],
   "source": [
    "#  6 \n",
    "\n",
    "def weeks_in_range(start_date, end_date):\n",
    "    \n",
    "    \n",
    "    \n",
    "    \n",
    "    try:\n",
    "        lst = [] \n",
    "        date_format = '%Y-%m-%d'\n",
    "        start_date = datetime.strptime(start_date, date_format)\n",
    "        end_date = datetime.strptime(end_date, date_format)\n",
    "        \n",
    "        print ('Диапазон дат:',start_date.strftime(date_format), ' по ',end_date.strftime(date_format), start_date.weekday())\n",
    "        print(start_date.date().weekday())\n",
    "        print(end_date.weekday())\n",
    "        start_date = start_date + timedelta(days = start_date.weekday()) \n",
    "        if end_date.weekday() != 6 :\n",
    "            end_date = end_date - timedelta(days = end_date.weekday()) \n",
    "        \n",
    "    \n",
    "        print ('Диапазон дат:',start_date.strftime(date_format), ' по ',end_date.strftime(date_format))\n",
    "\n",
    "        if end_date <= start_date :\n",
    "            print('start_date больше или равна end_date')\n",
    "            return []\n",
    "            \n",
    "        else:\n",
    "            c = start_date\n",
    "            while  (c+timedelta(days=6)) <= end_date   :\n",
    "\n",
    "\n",
    "                   lst.append([c.strftime(date_format),(c+timedelta(days=6)).strftime(date_format)])\n",
    "               # print(c.strftime(date_format))\n",
    "                   c += timedelta(days=7) \n",
    "           \n",
    "            return lst\n",
    "\n",
    "    except Exception as e:\n",
    "        print(e)\n",
    "    \n",
    "    print('Неверный формат')\n",
    "\n"
   ]
  },
  {
   "cell_type": "code",
   "execution_count": 420,
   "metadata": {},
   "outputs": [
    {
     "name": "stdout",
     "output_type": "stream",
     "text": [
      "Диапазон дат: 2018-09-03  по  2018-09-20 0\n",
      "0\n",
      "3\n",
      "Диапазон дат: 2018-09-03  по  2018-09-17\n"
     ]
    },
    {
     "data": {
      "text/plain": [
       "[['2018-09-03', '2018-09-09'], ['2018-09-10', '2018-09-16']]"
      ]
     },
     "execution_count": 420,
     "metadata": {},
     "output_type": "execute_result"
    }
   ],
   "source": [
    "start_date = '2018-09-03'\n",
    "end_date = '2018-09-20'\n",
    "\n",
    "weeks_in_range(start_date, end_date)"
   ]
  }
 ],
 "metadata": {
  "kernelspec": {
   "display_name": "Python 3",
   "language": "python",
   "name": "python3"
  },
  "language_info": {
   "codemirror_mode": {
    "name": "ipython",
    "version": 3
   },
   "file_extension": ".py",
   "mimetype": "text/x-python",
   "name": "python",
   "nbconvert_exporter": "python",
   "pygments_lexer": "ipython3",
   "version": "3.6.5"
  }
 },
 "nbformat": 4,
 "nbformat_minor": 2
}
